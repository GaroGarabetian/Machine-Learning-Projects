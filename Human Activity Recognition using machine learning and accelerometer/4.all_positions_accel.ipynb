{
 "cells": [
  {
   "cell_type": "code",
   "execution_count": 31,
   "id": "bce5bb94",
   "metadata": {},
   "outputs": [
    {
     "name": "stdout",
     "output_type": "stream",
     "text": [
      "             Ax        Ay       Az      position  participant  activity\n",
      "1305467  5.6116  -8.51270 -0.76274   Left_pocket            4  upstairs\n",
      "2361336  6.0747  -1.85240 -7.61380         Wrist            7   sitting\n",
      "731513   9.7113  -6.37430 -5.84310  Right_pocket            2    biking\n",
      "2944730  3.8001 -10.91000 -3.13270  Right_pocket            9  upstairs\n",
      "2933913  8.1450   0.23155 -5.57070  Right_pocket            9   sitting\n",
      "\n",
      " Total rows combined: 3150000\n",
      " Output saved as: combined_accel_with_activity.csv\n"
     ]
    }
   ],
   "source": [
    "import pandas as pd\n",
    "import glob\n",
    "import os\n",
    "\n",
    "# Input folder\n",
    "data_folder = 'Data/'\n",
    "csv_files = glob.glob(os.path.join(data_folder, 'Participant_*.csv'))\n",
    "\n",
    "# Define body locations and acceleration axes\n",
    "body_locations = ['Left_pocket', 'Right_pocket', 'Wrist', 'Upper_arm', 'Belt']\n",
    "accel_axes = ['Ax', 'Ay', 'Az']\n",
    "\n",
    "# List to hold all cleaned DataFrames\n",
    "all_data = []\n",
    "\n",
    "for file_path in csv_files:\n",
    "    with open(file_path, 'r') as f:\n",
    "        line1 = f.readline().strip().split(',')\n",
    "        line2 = f.readline().strip().split(',')\n",
    "\n",
    "    # Combine the two header rows\n",
    "    header = []\n",
    "    current_prefix = None\n",
    "    for part1, part2 in zip(line1, line2):\n",
    "        if part1:\n",
    "            current_prefix = part1.strip()\n",
    "        if part2:\n",
    "            header.append(f\"{current_prefix}_{part2.strip()}\")\n",
    "        else:\n",
    "            header.append(\"\")\n",
    "\n",
    "    # Read actual data\n",
    "    df = pd.read_csv(file_path, skiprows=2, header=None)\n",
    "    df.columns = header\n",
    "\n",
    "    # Extract participant ID from filename\n",
    "    participant_id = int(os.path.basename(file_path).split('_')[1].split('.')[0])\n",
    "\n",
    "    # Get activity from column index 69 (only once — it's global per row)\n",
    "    if df.shape[1] > 69:\n",
    "        activity_col = df.iloc[:, 69].values\n",
    "    else:\n",
    "        activity_col = ['unknown'] * len(df)\n",
    "\n",
    "    # Process each position\n",
    "    for loc in body_locations:\n",
    "        cols = [f\"{loc}_{axis}\" for axis in accel_axes if f\"{loc}_{axis}\" in df.columns]\n",
    "\n",
    "        if not cols:\n",
    "            continue\n",
    "\n",
    "        temp_df = df[cols].copy()\n",
    "        temp_df.columns = accel_axes\n",
    "        temp_df['position'] = loc\n",
    "        temp_df['participant'] = participant_id\n",
    "        temp_df['activity'] = activity_col\n",
    "\n",
    "        all_data.append(temp_df)\n",
    "\n",
    "# Combine everything\n",
    "combined_df = pd.concat(all_data, ignore_index=True)\n",
    "\n",
    "# Save\n",
    "combined_df.to_csv('combined_accel_with_activity.csv', index=False)\n",
    "\n",
    "# Print summary\n",
    "print(combined_df.sample(5))\n",
    "print(f\"\\n Total rows combined: {combined_df.shape[0]}\")\n",
    "print(f\" Output saved as: combined_accel_with_activity.csv\")\n",
    "\n",
    "\n"
   ]
  },
  {
   "cell_type": "code",
   "execution_count": 38,
   "id": "7c879622",
   "metadata": {},
   "outputs": [
    {
     "data": {
      "application/vnd.microsoft.datawrangler.viewer.v0+json": {
       "columns": [
        {
         "name": "index",
         "rawType": "int64",
         "type": "integer"
        },
        {
         "name": "time_stamp",
         "rawType": "float64",
         "type": "float"
        },
        {
         "name": "Ax",
         "rawType": "float64",
         "type": "float"
        },
        {
         "name": "Ay",
         "rawType": "float64",
         "type": "float"
        },
        {
         "name": "Az",
         "rawType": "float64",
         "type": "float"
        },
        {
         "name": "position",
         "rawType": "object",
         "type": "string"
        },
        {
         "name": "participant",
         "rawType": "int64",
         "type": "integer"
        },
        {
         "name": "activity",
         "rawType": "object",
         "type": "string"
        }
       ],
       "ref": "6a054e89-8573-401d-bfeb-59ed3d692291",
       "rows": [
        [
         "0",
         "1390000000000.0",
         "-1.8115",
         "-14.873",
         "-1.3484",
         "Left_pocket",
         "1",
         "walking"
        ],
        [
         "1",
         "1390000000000.0",
         "0.24517",
         "-14.07",
         "-0.84446",
         "Left_pocket",
         "1",
         "walking"
        ],
        [
         "2",
         "1390000000000.0",
         "-0.57205",
         "-14.628",
         "-1.757",
         "Left_pocket",
         "1",
         "walking"
        ],
        [
         "3",
         "1390000000000.0",
         "-0.69464",
         "-12.939",
         "-3.0918",
         "Left_pocket",
         "1",
         "walking"
        ],
        [
         "4",
         "1390000000000.0",
         "0.8717",
         "-12.0",
         "-1.5663",
         "Left_pocket",
         "1",
         "walking"
        ]
       ],
       "shape": {
        "columns": 7,
        "rows": 5
       }
      },
      "text/html": [
       "<div>\n",
       "<style scoped>\n",
       "    .dataframe tbody tr th:only-of-type {\n",
       "        vertical-align: middle;\n",
       "    }\n",
       "\n",
       "    .dataframe tbody tr th {\n",
       "        vertical-align: top;\n",
       "    }\n",
       "\n",
       "    .dataframe thead th {\n",
       "        text-align: right;\n",
       "    }\n",
       "</style>\n",
       "<table border=\"1\" class=\"dataframe\">\n",
       "  <thead>\n",
       "    <tr style=\"text-align: right;\">\n",
       "      <th></th>\n",
       "      <th>time_stamp</th>\n",
       "      <th>Ax</th>\n",
       "      <th>Ay</th>\n",
       "      <th>Az</th>\n",
       "      <th>position</th>\n",
       "      <th>participant</th>\n",
       "      <th>activity</th>\n",
       "    </tr>\n",
       "  </thead>\n",
       "  <tbody>\n",
       "    <tr>\n",
       "      <th>0</th>\n",
       "      <td>1.390000e+12</td>\n",
       "      <td>-1.81150</td>\n",
       "      <td>-14.873</td>\n",
       "      <td>-1.34840</td>\n",
       "      <td>Left_pocket</td>\n",
       "      <td>1</td>\n",
       "      <td>walking</td>\n",
       "    </tr>\n",
       "    <tr>\n",
       "      <th>1</th>\n",
       "      <td>1.390000e+12</td>\n",
       "      <td>0.24517</td>\n",
       "      <td>-14.070</td>\n",
       "      <td>-0.84446</td>\n",
       "      <td>Left_pocket</td>\n",
       "      <td>1</td>\n",
       "      <td>walking</td>\n",
       "    </tr>\n",
       "    <tr>\n",
       "      <th>2</th>\n",
       "      <td>1.390000e+12</td>\n",
       "      <td>-0.57205</td>\n",
       "      <td>-14.628</td>\n",
       "      <td>-1.75700</td>\n",
       "      <td>Left_pocket</td>\n",
       "      <td>1</td>\n",
       "      <td>walking</td>\n",
       "    </tr>\n",
       "    <tr>\n",
       "      <th>3</th>\n",
       "      <td>1.390000e+12</td>\n",
       "      <td>-0.69464</td>\n",
       "      <td>-12.939</td>\n",
       "      <td>-3.09180</td>\n",
       "      <td>Left_pocket</td>\n",
       "      <td>1</td>\n",
       "      <td>walking</td>\n",
       "    </tr>\n",
       "    <tr>\n",
       "      <th>4</th>\n",
       "      <td>1.390000e+12</td>\n",
       "      <td>0.87170</td>\n",
       "      <td>-12.000</td>\n",
       "      <td>-1.56630</td>\n",
       "      <td>Left_pocket</td>\n",
       "      <td>1</td>\n",
       "      <td>walking</td>\n",
       "    </tr>\n",
       "  </tbody>\n",
       "</table>\n",
       "</div>"
      ],
      "text/plain": [
       "     time_stamp       Ax      Ay       Az     position  participant activity\n",
       "0  1.390000e+12 -1.81150 -14.873 -1.34840  Left_pocket            1  walking\n",
       "1  1.390000e+12  0.24517 -14.070 -0.84446  Left_pocket            1  walking\n",
       "2  1.390000e+12 -0.57205 -14.628 -1.75700  Left_pocket            1  walking\n",
       "3  1.390000e+12 -0.69464 -12.939 -3.09180  Left_pocket            1  walking\n",
       "4  1.390000e+12  0.87170 -12.000 -1.56630  Left_pocket            1  walking"
      ]
     },
     "execution_count": 38,
     "metadata": {},
     "output_type": "execute_result"
    }
   ],
   "source": [
    "# Reading the combined data\n",
    "# Load the preprocessed data\n",
    "combined_df = pd.read_csv('Data/combined_accel_with_activity.csv')\n",
    "combined_df.head()"
   ]
  },
  {
   "cell_type": "code",
   "execution_count": 39,
   "id": "71f6581f",
   "metadata": {},
   "outputs": [
    {
     "data": {
      "text/plain": [
       "array(['walking', 'standing', 'jogging', 'sitting', 'biking', 'upstairs',\n",
       "       'downstairs', 'upsatirs'], dtype=object)"
      ]
     },
     "execution_count": 39,
     "metadata": {},
     "output_type": "execute_result"
    }
   ],
   "source": [
    "all_df_axis = combined_df[['time_stamp','Ax','Ay','Az','participant','position', 'activity']].copy()\n",
    "# Convert to numpy array\n",
    "all_df_axis['activity'].unique()"
   ]
  },
  {
   "cell_type": "code",
   "execution_count": 40,
   "id": "f59625f7",
   "metadata": {},
   "outputs": [
    {
     "data": {
      "application/vnd.microsoft.datawrangler.viewer.v0+json": {
       "columns": [
        {
         "name": "index",
         "rawType": "int64",
         "type": "integer"
        },
        {
         "name": "time_stamp",
         "rawType": "float64",
         "type": "float"
        },
        {
         "name": "Ax",
         "rawType": "float64",
         "type": "float"
        },
        {
         "name": "Ay",
         "rawType": "float64",
         "type": "float"
        },
        {
         "name": "Az",
         "rawType": "float64",
         "type": "float"
        },
        {
         "name": "participant",
         "rawType": "int64",
         "type": "integer"
        },
        {
         "name": "position",
         "rawType": "object",
         "type": "string"
        },
        {
         "name": "activity",
         "rawType": "object",
         "type": "string"
        }
       ],
       "ref": "b28e9e2f-c009-46b2-9f02-8d4f3c19acd9",
       "rows": [
        [
         "145739",
         "1390000000000.0",
         "5.3392",
         "3.8137",
         "3.8273",
         "1",
         "Wrist",
         "jogging"
        ],
        [
         "299774",
         "1390000000000.0",
         "10.065",
         "-1.4301",
         "-2.2201",
         "1",
         "Belt",
         "upstairs"
        ],
        [
         "2090856",
         "1390000000000.0",
         "0.92618",
         "-9.4389",
         "-0.89894",
         "6",
         "Upper_arm",
         "standing"
        ],
        [
         "10686",
         "1390000000000.0",
         "0.27241",
         "-10.12",
         "1.2258",
         "1",
         "Left_pocket",
         "standing"
        ],
        [
         "2242885",
         "1390000000000.0",
         "-3.1872",
         "-10.746",
         "-6.6604",
         "7",
         "Left_pocket",
         "biking"
        ]
       ],
       "shape": {
        "columns": 7,
        "rows": 5
       }
      },
      "text/html": [
       "<div>\n",
       "<style scoped>\n",
       "    .dataframe tbody tr th:only-of-type {\n",
       "        vertical-align: middle;\n",
       "    }\n",
       "\n",
       "    .dataframe tbody tr th {\n",
       "        vertical-align: top;\n",
       "    }\n",
       "\n",
       "    .dataframe thead th {\n",
       "        text-align: right;\n",
       "    }\n",
       "</style>\n",
       "<table border=\"1\" class=\"dataframe\">\n",
       "  <thead>\n",
       "    <tr style=\"text-align: right;\">\n",
       "      <th></th>\n",
       "      <th>time_stamp</th>\n",
       "      <th>Ax</th>\n",
       "      <th>Ay</th>\n",
       "      <th>Az</th>\n",
       "      <th>participant</th>\n",
       "      <th>position</th>\n",
       "      <th>activity</th>\n",
       "    </tr>\n",
       "  </thead>\n",
       "  <tbody>\n",
       "    <tr>\n",
       "      <th>145739</th>\n",
       "      <td>1.390000e+12</td>\n",
       "      <td>5.33920</td>\n",
       "      <td>3.8137</td>\n",
       "      <td>3.82730</td>\n",
       "      <td>1</td>\n",
       "      <td>Wrist</td>\n",
       "      <td>jogging</td>\n",
       "    </tr>\n",
       "    <tr>\n",
       "      <th>299774</th>\n",
       "      <td>1.390000e+12</td>\n",
       "      <td>10.06500</td>\n",
       "      <td>-1.4301</td>\n",
       "      <td>-2.22010</td>\n",
       "      <td>1</td>\n",
       "      <td>Belt</td>\n",
       "      <td>upstairs</td>\n",
       "    </tr>\n",
       "    <tr>\n",
       "      <th>2090856</th>\n",
       "      <td>1.390000e+12</td>\n",
       "      <td>0.92618</td>\n",
       "      <td>-9.4389</td>\n",
       "      <td>-0.89894</td>\n",
       "      <td>6</td>\n",
       "      <td>Upper_arm</td>\n",
       "      <td>standing</td>\n",
       "    </tr>\n",
       "    <tr>\n",
       "      <th>10686</th>\n",
       "      <td>1.390000e+12</td>\n",
       "      <td>0.27241</td>\n",
       "      <td>-10.1200</td>\n",
       "      <td>1.22580</td>\n",
       "      <td>1</td>\n",
       "      <td>Left_pocket</td>\n",
       "      <td>standing</td>\n",
       "    </tr>\n",
       "    <tr>\n",
       "      <th>2242885</th>\n",
       "      <td>1.390000e+12</td>\n",
       "      <td>-3.18720</td>\n",
       "      <td>-10.7460</td>\n",
       "      <td>-6.66040</td>\n",
       "      <td>7</td>\n",
       "      <td>Left_pocket</td>\n",
       "      <td>biking</td>\n",
       "    </tr>\n",
       "  </tbody>\n",
       "</table>\n",
       "</div>"
      ],
      "text/plain": [
       "           time_stamp        Ax       Ay       Az  participant     position  \\\n",
       "145739   1.390000e+12   5.33920   3.8137  3.82730            1        Wrist   \n",
       "299774   1.390000e+12  10.06500  -1.4301 -2.22010            1         Belt   \n",
       "2090856  1.390000e+12   0.92618  -9.4389 -0.89894            6    Upper_arm   \n",
       "10686    1.390000e+12   0.27241 -10.1200  1.22580            1  Left_pocket   \n",
       "2242885  1.390000e+12  -3.18720 -10.7460 -6.66040            7  Left_pocket   \n",
       "\n",
       "         activity  \n",
       "145739    jogging  \n",
       "299774   upstairs  \n",
       "2090856  standing  \n",
       "10686    standing  \n",
       "2242885    biking  "
      ]
     },
     "execution_count": 40,
     "metadata": {},
     "output_type": "execute_result"
    }
   ],
   "source": [
    "all_df_axis.loc[all_df_axis['activity'] == 'upsatirs', 'activity'] = 'upstairs'\n",
    "all_df_axis.sample(5)"
   ]
  },
  {
   "cell_type": "code",
   "execution_count": 41,
   "id": "53ccd9c7",
   "metadata": {},
   "outputs": [],
   "source": [
    "cols_to_numeric = ['Ax', 'Ay', 'Az', 'time_stamp']\n",
    "for col in cols_to_numeric:\n",
    "    all_df_axis[col] = pd.to_numeric(all_df_axis[col], errors='coerce')\n",
    "all_df_axis['participant'] = all_df_axis['participant'].astype('category')\n",
    "all_df_axis['activity'] = all_df_axis['activity'].astype('category')"
   ]
  },
  {
   "cell_type": "code",
   "execution_count": 42,
   "id": "be2ee9ae",
   "metadata": {},
   "outputs": [
    {
     "data": {
      "application/vnd.microsoft.datawrangler.viewer.v0+json": {
       "columns": [
        {
         "name": "index",
         "rawType": "object",
         "type": "string"
        },
        {
         "name": "time_stamp",
         "rawType": "float64",
         "type": "float"
        },
        {
         "name": "Ax",
         "rawType": "float64",
         "type": "float"
        },
        {
         "name": "Ay",
         "rawType": "float64",
         "type": "float"
        },
        {
         "name": "Az",
         "rawType": "float64",
         "type": "float"
        }
       ],
       "ref": "6b316dae-00fe-415c-9446-66754bb3d4be",
       "rows": [
        [
         "count",
         "3150000.0",
         "3150000.0",
         "3150000.0",
         "3150000.0"
        ],
        [
         "mean",
         "1390000000000.0",
         "2.9701748447901597",
         "-6.286799517063811",
         "-2.20718564491238"
        ],
        [
         "std",
         "0.0",
         "5.318678214672307",
         "5.467466680132307",
         "3.765335213541285"
        ],
        [
         "min",
         "1390000000000.0",
         "-19.6",
         "-19.668",
         "-19.491"
        ],
        [
         "25%",
         "1390000000000.0",
         "-0.081722",
         "-9.7522",
         "-4.413"
        ],
        [
         "50%",
         "1390000000000.0",
         "2.5061",
         "-7.1507",
         "-1.6617"
        ],
        [
         "75%",
         "1390000000000.0",
         "6.3607",
         "-1.757",
         "0.10896"
        ],
        [
         "max",
         "1390000000000.0",
         "19.6",
         "19.259",
         "19.6"
        ]
       ],
       "shape": {
        "columns": 4,
        "rows": 8
       }
      },
      "text/html": [
       "<div>\n",
       "<style scoped>\n",
       "    .dataframe tbody tr th:only-of-type {\n",
       "        vertical-align: middle;\n",
       "    }\n",
       "\n",
       "    .dataframe tbody tr th {\n",
       "        vertical-align: top;\n",
       "    }\n",
       "\n",
       "    .dataframe thead th {\n",
       "        text-align: right;\n",
       "    }\n",
       "</style>\n",
       "<table border=\"1\" class=\"dataframe\">\n",
       "  <thead>\n",
       "    <tr style=\"text-align: right;\">\n",
       "      <th></th>\n",
       "      <th>time_stamp</th>\n",
       "      <th>Ax</th>\n",
       "      <th>Ay</th>\n",
       "      <th>Az</th>\n",
       "    </tr>\n",
       "  </thead>\n",
       "  <tbody>\n",
       "    <tr>\n",
       "      <th>count</th>\n",
       "      <td>3.150000e+06</td>\n",
       "      <td>3.150000e+06</td>\n",
       "      <td>3.150000e+06</td>\n",
       "      <td>3.150000e+06</td>\n",
       "    </tr>\n",
       "    <tr>\n",
       "      <th>mean</th>\n",
       "      <td>1.390000e+12</td>\n",
       "      <td>2.970175e+00</td>\n",
       "      <td>-6.286800e+00</td>\n",
       "      <td>-2.207186e+00</td>\n",
       "    </tr>\n",
       "    <tr>\n",
       "      <th>std</th>\n",
       "      <td>0.000000e+00</td>\n",
       "      <td>5.318678e+00</td>\n",
       "      <td>5.467467e+00</td>\n",
       "      <td>3.765335e+00</td>\n",
       "    </tr>\n",
       "    <tr>\n",
       "      <th>min</th>\n",
       "      <td>1.390000e+12</td>\n",
       "      <td>-1.960000e+01</td>\n",
       "      <td>-1.966800e+01</td>\n",
       "      <td>-1.949100e+01</td>\n",
       "    </tr>\n",
       "    <tr>\n",
       "      <th>25%</th>\n",
       "      <td>1.390000e+12</td>\n",
       "      <td>-8.172200e-02</td>\n",
       "      <td>-9.752200e+00</td>\n",
       "      <td>-4.413000e+00</td>\n",
       "    </tr>\n",
       "    <tr>\n",
       "      <th>50%</th>\n",
       "      <td>1.390000e+12</td>\n",
       "      <td>2.506100e+00</td>\n",
       "      <td>-7.150700e+00</td>\n",
       "      <td>-1.661700e+00</td>\n",
       "    </tr>\n",
       "    <tr>\n",
       "      <th>75%</th>\n",
       "      <td>1.390000e+12</td>\n",
       "      <td>6.360700e+00</td>\n",
       "      <td>-1.757000e+00</td>\n",
       "      <td>1.089600e-01</td>\n",
       "    </tr>\n",
       "    <tr>\n",
       "      <th>max</th>\n",
       "      <td>1.390000e+12</td>\n",
       "      <td>1.960000e+01</td>\n",
       "      <td>1.925900e+01</td>\n",
       "      <td>1.960000e+01</td>\n",
       "    </tr>\n",
       "  </tbody>\n",
       "</table>\n",
       "</div>"
      ],
      "text/plain": [
       "         time_stamp            Ax            Ay            Az\n",
       "count  3.150000e+06  3.150000e+06  3.150000e+06  3.150000e+06\n",
       "mean   1.390000e+12  2.970175e+00 -6.286800e+00 -2.207186e+00\n",
       "std    0.000000e+00  5.318678e+00  5.467467e+00  3.765335e+00\n",
       "min    1.390000e+12 -1.960000e+01 -1.966800e+01 -1.949100e+01\n",
       "25%    1.390000e+12 -8.172200e-02 -9.752200e+00 -4.413000e+00\n",
       "50%    1.390000e+12  2.506100e+00 -7.150700e+00 -1.661700e+00\n",
       "75%    1.390000e+12  6.360700e+00 -1.757000e+00  1.089600e-01\n",
       "max    1.390000e+12  1.960000e+01  1.925900e+01  1.960000e+01"
      ]
     },
     "execution_count": 42,
     "metadata": {},
     "output_type": "execute_result"
    }
   ],
   "source": [
    "all_df_axis.describe()"
   ]
  },
  {
   "cell_type": "code",
   "execution_count": 43,
   "id": "8ad3bb71",
   "metadata": {},
   "outputs": [
    {
     "data": {
      "application/vnd.microsoft.datawrangler.viewer.v0+json": {
       "columns": [
        {
         "name": "index",
         "rawType": "int64",
         "type": "integer"
        },
        {
         "name": "time_stamp",
         "rawType": "float64",
         "type": "float"
        },
        {
         "name": "Ax",
         "rawType": "float64",
         "type": "float"
        },
        {
         "name": "Ay",
         "rawType": "float64",
         "type": "float"
        },
        {
         "name": "Az",
         "rawType": "float64",
         "type": "float"
        },
        {
         "name": "participant",
         "rawType": "category",
         "type": "unknown"
        },
        {
         "name": "position",
         "rawType": "object",
         "type": "string"
        },
        {
         "name": "activity",
         "rawType": "category",
         "type": "unknown"
        }
       ],
       "ref": "50ea38e2-df75-4f43-acdb-e117206f8bea",
       "rows": [
        [
         "0",
         "1390000000000.0",
         "-1.8115",
         "-14.873",
         "-1.3484",
         "1",
         "Left_pocket",
         "walking"
        ],
        [
         "1",
         "1390000000000.0",
         "0.24517",
         "-14.07",
         "-0.84446",
         "1",
         "Left_pocket",
         "walking"
        ],
        [
         "2",
         "1390000000000.0",
         "-0.57205",
         "-14.628",
         "-1.757",
         "1",
         "Left_pocket",
         "walking"
        ],
        [
         "3",
         "1390000000000.0",
         "-0.69464",
         "-12.939",
         "-3.0918",
         "1",
         "Left_pocket",
         "walking"
        ],
        [
         "4",
         "1390000000000.0",
         "0.8717",
         "-12.0",
         "-1.5663",
         "1",
         "Left_pocket",
         "walking"
        ],
        [
         "5",
         "1390000000000.0",
         "0.20431",
         "-11.468",
         "4.3449",
         "1",
         "Left_pocket",
         "walking"
        ],
        [
         "6",
         "1390000000000.0",
         "0.50395",
         "-12.503",
         "4.3177",
         "1",
         "Left_pocket",
         "walking"
        ],
        [
         "7",
         "1390000000000.0",
         "2.6015",
         "-16.086",
         "3.4187",
         "1",
         "Left_pocket",
         "walking"
        ],
        [
         "8",
         "1390000000000.0",
         "4.9442",
         "-17.87",
         "2.0839",
         "1",
         "Left_pocket",
         "walking"
        ],
        [
         "9",
         "1390000000000.0",
         "4.699",
         "-15.963",
         "2.2201",
         "1",
         "Left_pocket",
         "walking"
        ],
        [
         "10",
         "1390000000000.0",
         "4.5083",
         "-14.492",
         "2.0294",
         "1",
         "Left_pocket",
         "walking"
        ],
        [
         "11",
         "1390000000000.0",
         "4.4947",
         "-11.101",
         "0.040861",
         "1",
         "Left_pocket",
         "walking"
        ],
        [
         "12",
         "1390000000000.0",
         "4.2768",
         "-10.529",
         "1.5391",
         "1",
         "Left_pocket",
         "walking"
        ],
        [
         "13",
         "1390000000000.0",
         "1.866",
         "-8.8805",
         "6.7557",
         "1",
         "Left_pocket",
         "walking"
        ],
        [
         "14",
         "1390000000000.0",
         "-1.4846",
         "-9.0167",
         "3.6503",
         "1",
         "Left_pocket",
         "walking"
        ],
        [
         "15",
         "1390000000000.0",
         "-1.471",
         "-4.7126",
         "2.2882",
         "1",
         "Left_pocket",
         "walking"
        ],
        [
         "16",
         "1390000000000.0",
         "-1.7706",
         "-2.9011",
         "3.5004",
         "1",
         "Left_pocket",
         "walking"
        ],
        [
         "17",
         "1390000000000.0",
         "0.24517",
         "-3.1327",
         "4.4402",
         "1",
         "Left_pocket",
         "walking"
        ],
        [
         "18",
         "1390000000000.0",
         "0.34051",
         "-3.1599",
         "3.9363",
         "1",
         "Left_pocket",
         "walking"
        ],
        [
         "19",
         "1390000000000.0",
         "-0.068102",
         "-2.9011",
         "3.0918",
         "1",
         "Left_pocket",
         "walking"
        ],
        [
         "20",
         "1390000000000.0",
         "0.83084",
         "-0.69464",
         "1.7025",
         "1",
         "Left_pocket",
         "walking"
        ],
        [
         "21",
         "1390000000000.0",
         "1.1169",
         "-0.68102",
         "0.57205",
         "1",
         "Left_pocket",
         "walking"
        ],
        [
         "22",
         "1390000000000.0",
         "2.3427",
         "-1.9068",
         "-1.2667",
         "1",
         "Left_pocket",
         "walking"
        ],
        [
         "23",
         "1390000000000.0",
         "10.161",
         "-13.116",
         "-12.0",
         "1",
         "Left_pocket",
         "walking"
        ],
        [
         "24",
         "1390000000000.0",
         "13.988",
         "-19.15",
         "-17.053",
         "1",
         "Left_pocket",
         "walking"
        ],
        [
         "25",
         "1390000000000.0",
         "8.9894",
         "-19.545",
         "-12.803",
         "1",
         "Left_pocket",
         "walking"
        ],
        [
         "26",
         "1390000000000.0",
         "5.4618",
         "-8.9077",
         "-6.5786",
         "1",
         "Left_pocket",
         "walking"
        ],
        [
         "27",
         "1390000000000.0",
         "5.5707",
         "-5.6388",
         "-5.5299",
         "1",
         "Left_pocket",
         "walking"
        ],
        [
         "28",
         "1390000000000.0",
         "4.6718",
         "-9.1256",
         "-3.6503",
         "1",
         "Left_pocket",
         "walking"
        ],
        [
         "29",
         "1390000000000.0",
         "2.8875",
         "-17.216",
         "-3.5958",
         "1",
         "Left_pocket",
         "walking"
        ],
        [
         "30",
         "1390000000000.0",
         "7.4776",
         "-12.544",
         "6.565",
         "1",
         "Left_pocket",
         "walking"
        ],
        [
         "31",
         "1390000000000.0",
         "6.5105",
         "-2.8875",
         "10.215",
         "1",
         "Left_pocket",
         "walking"
        ],
        [
         "32",
         "1390000000000.0",
         "0.9398",
         "-2.2882",
         "-2.2746",
         "1",
         "Left_pocket",
         "walking"
        ],
        [
         "33",
         "1390000000000.0",
         "1.7706",
         "-9.6704",
         "-1.3484",
         "1",
         "Left_pocket",
         "walking"
        ],
        [
         "34",
         "1390000000000.0",
         "2.1929",
         "-11.809",
         "7.2324",
         "1",
         "Left_pocket",
         "walking"
        ],
        [
         "35",
         "1390000000000.0",
         "0.89894",
         "-12.953",
         "7.7772",
         "1",
         "Left_pocket",
         "walking"
        ],
        [
         "36",
         "1390000000000.0",
         "-2.261",
         "-15.05",
         "7.641",
         "1",
         "Left_pocket",
         "walking"
        ],
        [
         "37",
         "1390000000000.0",
         "-4.0316",
         "-16.821",
         "-0.24517",
         "1",
         "Left_pocket",
         "walking"
        ],
        [
         "38",
         "1390000000000.0",
         "-3.1327",
         "-14.097",
         "-1.0624",
         "1",
         "Left_pocket",
         "walking"
        ],
        [
         "39",
         "1390000000000.0",
         "-1.8387",
         "-10.992",
         "-0.42223",
         "1",
         "Left_pocket",
         "walking"
        ],
        [
         "40",
         "1390000000000.0",
         "0.38137",
         "-7.3141",
         "-0.38137",
         "1",
         "Left_pocket",
         "walking"
        ],
        [
         "41",
         "1390000000000.0",
         "1.4574",
         "-7.641",
         "-1.2258",
         "1",
         "Left_pocket",
         "walking"
        ],
        [
         "42",
         "1390000000000.0",
         "2.2201",
         "-6.96",
         "-0.95342",
         "1",
         "Left_pocket",
         "walking"
        ],
        [
         "43",
         "1390000000000.0",
         "1.3212",
         "-7.8045",
         "-0.44947",
         "1",
         "Left_pocket",
         "walking"
        ],
        [
         "44",
         "1390000000000.0",
         "0.5993",
         "-8.2539",
         "-0.17706",
         "1",
         "Left_pocket",
         "walking"
        ],
        [
         "45",
         "1390000000000.0",
         "0.27241",
         "-8.322",
         "0.1362",
         "1",
         "Left_pocket",
         "walking"
        ],
        [
         "46",
         "1390000000000.0",
         "0.78998",
         "-8.6217",
         "0.28603",
         "1",
         "Left_pocket",
         "walking"
        ],
        [
         "47",
         "1390000000000.0",
         "1.3893",
         "-9.2891",
         "0.64016",
         "1",
         "Left_pocket",
         "walking"
        ],
        [
         "48",
         "1390000000000.0",
         "1.471",
         "-10.556",
         "1.2803",
         "1",
         "Left_pocket",
         "walking"
        ],
        [
         "49",
         "1390000000000.0",
         "1.2395",
         "-10.828",
         "1.1577",
         "1",
         "Left_pocket",
         "walking"
        ]
       ],
       "shape": {
        "columns": 7,
        "rows": 3150000
       }
      },
      "text/html": [
       "<div>\n",
       "<style scoped>\n",
       "    .dataframe tbody tr th:only-of-type {\n",
       "        vertical-align: middle;\n",
       "    }\n",
       "\n",
       "    .dataframe tbody tr th {\n",
       "        vertical-align: top;\n",
       "    }\n",
       "\n",
       "    .dataframe thead th {\n",
       "        text-align: right;\n",
       "    }\n",
       "</style>\n",
       "<table border=\"1\" class=\"dataframe\">\n",
       "  <thead>\n",
       "    <tr style=\"text-align: right;\">\n",
       "      <th></th>\n",
       "      <th>time_stamp</th>\n",
       "      <th>Ax</th>\n",
       "      <th>Ay</th>\n",
       "      <th>Az</th>\n",
       "      <th>participant</th>\n",
       "      <th>position</th>\n",
       "      <th>activity</th>\n",
       "    </tr>\n",
       "  </thead>\n",
       "  <tbody>\n",
       "    <tr>\n",
       "      <th>0</th>\n",
       "      <td>1.390000e+12</td>\n",
       "      <td>-1.81150</td>\n",
       "      <td>-14.8730</td>\n",
       "      <td>-1.34840</td>\n",
       "      <td>1</td>\n",
       "      <td>Left_pocket</td>\n",
       "      <td>walking</td>\n",
       "    </tr>\n",
       "    <tr>\n",
       "      <th>1</th>\n",
       "      <td>1.390000e+12</td>\n",
       "      <td>0.24517</td>\n",
       "      <td>-14.0700</td>\n",
       "      <td>-0.84446</td>\n",
       "      <td>1</td>\n",
       "      <td>Left_pocket</td>\n",
       "      <td>walking</td>\n",
       "    </tr>\n",
       "    <tr>\n",
       "      <th>2</th>\n",
       "      <td>1.390000e+12</td>\n",
       "      <td>-0.57205</td>\n",
       "      <td>-14.6280</td>\n",
       "      <td>-1.75700</td>\n",
       "      <td>1</td>\n",
       "      <td>Left_pocket</td>\n",
       "      <td>walking</td>\n",
       "    </tr>\n",
       "    <tr>\n",
       "      <th>3</th>\n",
       "      <td>1.390000e+12</td>\n",
       "      <td>-0.69464</td>\n",
       "      <td>-12.9390</td>\n",
       "      <td>-3.09180</td>\n",
       "      <td>1</td>\n",
       "      <td>Left_pocket</td>\n",
       "      <td>walking</td>\n",
       "    </tr>\n",
       "    <tr>\n",
       "      <th>4</th>\n",
       "      <td>1.390000e+12</td>\n",
       "      <td>0.87170</td>\n",
       "      <td>-12.0000</td>\n",
       "      <td>-1.56630</td>\n",
       "      <td>1</td>\n",
       "      <td>Left_pocket</td>\n",
       "      <td>walking</td>\n",
       "    </tr>\n",
       "    <tr>\n",
       "      <th>...</th>\n",
       "      <td>...</td>\n",
       "      <td>...</td>\n",
       "      <td>...</td>\n",
       "      <td>...</td>\n",
       "      <td>...</td>\n",
       "      <td>...</td>\n",
       "      <td>...</td>\n",
       "    </tr>\n",
       "    <tr>\n",
       "      <th>3149995</th>\n",
       "      <td>1.390000e+12</td>\n",
       "      <td>9.05750</td>\n",
       "      <td>-1.9477</td>\n",
       "      <td>-1.28030</td>\n",
       "      <td>9</td>\n",
       "      <td>Belt</td>\n",
       "      <td>downstairs</td>\n",
       "    </tr>\n",
       "    <tr>\n",
       "      <th>3149996</th>\n",
       "      <td>1.390000e+12</td>\n",
       "      <td>9.16650</td>\n",
       "      <td>-2.1793</td>\n",
       "      <td>-1.29390</td>\n",
       "      <td>9</td>\n",
       "      <td>Belt</td>\n",
       "      <td>downstairs</td>\n",
       "    </tr>\n",
       "    <tr>\n",
       "      <th>3149997</th>\n",
       "      <td>1.390000e+12</td>\n",
       "      <td>10.03800</td>\n",
       "      <td>-3.2144</td>\n",
       "      <td>-1.51190</td>\n",
       "      <td>9</td>\n",
       "      <td>Belt</td>\n",
       "      <td>downstairs</td>\n",
       "    </tr>\n",
       "    <tr>\n",
       "      <th>3149998</th>\n",
       "      <td>1.390000e+12</td>\n",
       "      <td>9.62960</td>\n",
       "      <td>-4.2223</td>\n",
       "      <td>-1.70250</td>\n",
       "      <td>9</td>\n",
       "      <td>Belt</td>\n",
       "      <td>downstairs</td>\n",
       "    </tr>\n",
       "    <tr>\n",
       "      <th>3149999</th>\n",
       "      <td>1.390000e+12</td>\n",
       "      <td>8.86680</td>\n",
       "      <td>-4.3858</td>\n",
       "      <td>-2.09750</td>\n",
       "      <td>9</td>\n",
       "      <td>Belt</td>\n",
       "      <td>downstairs</td>\n",
       "    </tr>\n",
       "  </tbody>\n",
       "</table>\n",
       "<p>3150000 rows × 7 columns</p>\n",
       "</div>"
      ],
      "text/plain": [
       "           time_stamp        Ax       Ay       Az participant     position  \\\n",
       "0        1.390000e+12  -1.81150 -14.8730 -1.34840           1  Left_pocket   \n",
       "1        1.390000e+12   0.24517 -14.0700 -0.84446           1  Left_pocket   \n",
       "2        1.390000e+12  -0.57205 -14.6280 -1.75700           1  Left_pocket   \n",
       "3        1.390000e+12  -0.69464 -12.9390 -3.09180           1  Left_pocket   \n",
       "4        1.390000e+12   0.87170 -12.0000 -1.56630           1  Left_pocket   \n",
       "...               ...       ...      ...      ...         ...          ...   \n",
       "3149995  1.390000e+12   9.05750  -1.9477 -1.28030           9         Belt   \n",
       "3149996  1.390000e+12   9.16650  -2.1793 -1.29390           9         Belt   \n",
       "3149997  1.390000e+12  10.03800  -3.2144 -1.51190           9         Belt   \n",
       "3149998  1.390000e+12   9.62960  -4.2223 -1.70250           9         Belt   \n",
       "3149999  1.390000e+12   8.86680  -4.3858 -2.09750           9         Belt   \n",
       "\n",
       "           activity  \n",
       "0           walking  \n",
       "1           walking  \n",
       "2           walking  \n",
       "3           walking  \n",
       "4           walking  \n",
       "...             ...  \n",
       "3149995  downstairs  \n",
       "3149996  downstairs  \n",
       "3149997  downstairs  \n",
       "3149998  downstairs  \n",
       "3149999  downstairs  \n",
       "\n",
       "[3150000 rows x 7 columns]"
      ]
     },
     "execution_count": 43,
     "metadata": {},
     "output_type": "execute_result"
    }
   ],
   "source": [
    "data = all_df_axis.copy()\n",
    "data"
   ]
  },
  {
   "cell_type": "code",
   "execution_count": 44,
   "id": "bdd09faa",
   "metadata": {},
   "outputs": [
    {
     "name": "stdout",
     "output_type": "stream",
     "text": [
      "Participant 1 has 315000 rows\n",
      "Participant 2 has 315000 rows\n",
      "Participant 3 has 315000 rows\n",
      "Participant 4 has 315000 rows\n",
      "Participant 5 has 315000 rows\n",
      "Participant 6 has 315000 rows\n",
      "Participant 7 has 315000 rows\n",
      "Participant 8 has 315000 rows\n",
      "Participant 9 has 315000 rows\n",
      "Participant 10 has 315000 rows\n"
     ]
    }
   ],
   "source": [
    "for i in range(1, len(data['participant'].unique())+1):\n",
    "    print(f'Participant {i} has {len(data[data[\"participant\"] == i])} rows')"
   ]
  },
  {
   "cell_type": "code",
   "execution_count": 45,
   "id": "0c792cda",
   "metadata": {},
   "outputs": [],
   "source": [
    "import numpy as np\n",
    "data['accel_magnitude'] = np.sqrt(data['Ax']**2 + data['Ay']**2 + data['Az']**2)"
   ]
  },
  {
   "cell_type": "code",
   "execution_count": 46,
   "id": "eadca74c",
   "metadata": {},
   "outputs": [
    {
     "name": "stdout",
     "output_type": "stream",
     "text": [
      "Series([], dtype: int64)\n"
     ]
    }
   ],
   "source": [
    "# Check for missing values\n",
    "missing_values = data.isnull().sum()\n",
    "print(missing_values[missing_values > 0])"
   ]
  },
  {
   "cell_type": "code",
   "execution_count": 47,
   "id": "a6d10451",
   "metadata": {},
   "outputs": [],
   "source": [
    "import numpy as np\n",
    "\n",
    "def replace_sensor_errors(data, threshold=1000):\n",
    "    data = np.array(data, dtype=float)\n",
    "    n = data.shape[0]\n",
    "\n",
    "    # Find indices where data > threshold\n",
    "    error_idx = np.where(data > threshold)[0] # to get the actual indices array from the tuple returned by np.where.\n",
    "\n",
    "    # Handle the first element if it's an error\n",
    "    if 0 in error_idx:\n",
    "        valid_idx = np.where(data <= threshold)[0]\n",
    "        if valid_idx.size == 0:\n",
    "            raise ValueError(\"All values in this dataset are errors\")\n",
    "        data[0] = data[valid_idx[0]]\n",
    "\n",
    "    # For the rest, replace with previous valid value\n",
    "    for i in error_idx:\n",
    "        if i == 0:\n",
    "            continue\n",
    "        data[i] = data[i-1]\n",
    "\n",
    "    return data\n",
    "\n",
    "# Apply only to the accel_magnitude column\n",
    "data['accel_magnitude'] = replace_sensor_errors(data['accel_magnitude'].values)"
   ]
  },
  {
   "cell_type": "code",
   "execution_count": 48,
   "id": "34a21f82",
   "metadata": {},
   "outputs": [
    {
     "name": "stderr",
     "output_type": "stream",
     "text": [
      "C:\\Users\\garog\\AppData\\Local\\Temp\\ipykernel_452\\1947727602.py:2: FutureWarning: The default of observed=False is deprecated and will be changed to True in a future version of pandas. Pass observed=False to retain current behavior or observed=True to adopt the future default and silence this warning.\n",
      "  data['accel_magnitude'].groupby(data['activity']).describe()\n"
     ]
    },
    {
     "data": {
      "application/vnd.microsoft.datawrangler.viewer.v0+json": {
       "columns": [
        {
         "name": "activity",
         "rawType": "category",
         "type": "unknown"
        },
        {
         "name": "count",
         "rawType": "float64",
         "type": "float"
        },
        {
         "name": "mean",
         "rawType": "float64",
         "type": "float"
        },
        {
         "name": "std",
         "rawType": "float64",
         "type": "float"
        },
        {
         "name": "min",
         "rawType": "float64",
         "type": "float"
        },
        {
         "name": "25%",
         "rawType": "float64",
         "type": "float"
        },
        {
         "name": "50%",
         "rawType": "float64",
         "type": "float"
        },
        {
         "name": "75%",
         "rawType": "float64",
         "type": "float"
        },
        {
         "name": "max",
         "rawType": "float64",
         "type": "float"
        }
       ],
       "ref": "28df2872-3f63-4a1c-916c-58582caee1b4",
       "rows": [
        [
         "biking",
         "450000.0",
         "10.039184077864816",
         "1.9275172399028844",
         "0.9216647233245937",
         "9.044183946453876",
         "10.000934526332854",
         "10.950974842611444",
         "30.916655009881"
        ],
        [
         "downstairs",
         "450000.0",
         "10.405523176970929",
         "4.0813919968742685",
         "0.2686384284219218",
         "7.641862893975893",
         "9.671813959643426",
         "12.538611892860164",
         "31.9686750742035"
        ],
        [
         "jogging",
         "450000.0",
         "13.050861916764624",
         "6.521728965723604",
         "0.1171661113377072",
         "7.620760449804736",
         "11.9664472843684",
         "19.041572803094297",
         "33.04414774207378"
        ],
        [
         "sitting",
         "450000.0",
         "9.756681432502946",
         "0.22690399468400996",
         "4.221221759360672",
         "9.652545804087127",
         "9.80158221538741",
         "9.898555591079942",
         "20.93471527702252"
        ],
        [
         "standing",
         "450000.0",
         "9.871296333106779",
         "0.28371016994994436",
         "3.8705113150590322",
         "9.781634596171173",
         "9.890595808243807",
         "9.991226987962985",
         "18.484681688630722"
        ],
        [
         "upstairs",
         "450000.0",
         "10.37392626821415",
         "3.151055297716062",
         "0.3339057467310199",
         "8.327612205925085",
         "10.048675130145197",
         "12.252458325980939",
         "29.597369646642587"
        ],
        [
         "walking",
         "450000.0",
         "10.676269748753578",
         "3.528240216411033",
         "0.28893090194716103",
         "8.320685219233676",
         "10.398328886650667",
         "12.661785942173218",
         "31.462007946092694"
        ]
       ],
       "shape": {
        "columns": 8,
        "rows": 7
       }
      },
      "text/html": [
       "<div>\n",
       "<style scoped>\n",
       "    .dataframe tbody tr th:only-of-type {\n",
       "        vertical-align: middle;\n",
       "    }\n",
       "\n",
       "    .dataframe tbody tr th {\n",
       "        vertical-align: top;\n",
       "    }\n",
       "\n",
       "    .dataframe thead th {\n",
       "        text-align: right;\n",
       "    }\n",
       "</style>\n",
       "<table border=\"1\" class=\"dataframe\">\n",
       "  <thead>\n",
       "    <tr style=\"text-align: right;\">\n",
       "      <th></th>\n",
       "      <th>count</th>\n",
       "      <th>mean</th>\n",
       "      <th>std</th>\n",
       "      <th>min</th>\n",
       "      <th>25%</th>\n",
       "      <th>50%</th>\n",
       "      <th>75%</th>\n",
       "      <th>max</th>\n",
       "    </tr>\n",
       "    <tr>\n",
       "      <th>activity</th>\n",
       "      <th></th>\n",
       "      <th></th>\n",
       "      <th></th>\n",
       "      <th></th>\n",
       "      <th></th>\n",
       "      <th></th>\n",
       "      <th></th>\n",
       "      <th></th>\n",
       "    </tr>\n",
       "  </thead>\n",
       "  <tbody>\n",
       "    <tr>\n",
       "      <th>biking</th>\n",
       "      <td>450000.0</td>\n",
       "      <td>10.039184</td>\n",
       "      <td>1.927517</td>\n",
       "      <td>0.921665</td>\n",
       "      <td>9.044184</td>\n",
       "      <td>10.000935</td>\n",
       "      <td>10.950975</td>\n",
       "      <td>30.916655</td>\n",
       "    </tr>\n",
       "    <tr>\n",
       "      <th>downstairs</th>\n",
       "      <td>450000.0</td>\n",
       "      <td>10.405523</td>\n",
       "      <td>4.081392</td>\n",
       "      <td>0.268638</td>\n",
       "      <td>7.641863</td>\n",
       "      <td>9.671814</td>\n",
       "      <td>12.538612</td>\n",
       "      <td>31.968675</td>\n",
       "    </tr>\n",
       "    <tr>\n",
       "      <th>jogging</th>\n",
       "      <td>450000.0</td>\n",
       "      <td>13.050862</td>\n",
       "      <td>6.521729</td>\n",
       "      <td>0.117166</td>\n",
       "      <td>7.620760</td>\n",
       "      <td>11.966447</td>\n",
       "      <td>19.041573</td>\n",
       "      <td>33.044148</td>\n",
       "    </tr>\n",
       "    <tr>\n",
       "      <th>sitting</th>\n",
       "      <td>450000.0</td>\n",
       "      <td>9.756681</td>\n",
       "      <td>0.226904</td>\n",
       "      <td>4.221222</td>\n",
       "      <td>9.652546</td>\n",
       "      <td>9.801582</td>\n",
       "      <td>9.898556</td>\n",
       "      <td>20.934715</td>\n",
       "    </tr>\n",
       "    <tr>\n",
       "      <th>standing</th>\n",
       "      <td>450000.0</td>\n",
       "      <td>9.871296</td>\n",
       "      <td>0.283710</td>\n",
       "      <td>3.870511</td>\n",
       "      <td>9.781635</td>\n",
       "      <td>9.890596</td>\n",
       "      <td>9.991227</td>\n",
       "      <td>18.484682</td>\n",
       "    </tr>\n",
       "    <tr>\n",
       "      <th>upstairs</th>\n",
       "      <td>450000.0</td>\n",
       "      <td>10.373926</td>\n",
       "      <td>3.151055</td>\n",
       "      <td>0.333906</td>\n",
       "      <td>8.327612</td>\n",
       "      <td>10.048675</td>\n",
       "      <td>12.252458</td>\n",
       "      <td>29.597370</td>\n",
       "    </tr>\n",
       "    <tr>\n",
       "      <th>walking</th>\n",
       "      <td>450000.0</td>\n",
       "      <td>10.676270</td>\n",
       "      <td>3.528240</td>\n",
       "      <td>0.288931</td>\n",
       "      <td>8.320685</td>\n",
       "      <td>10.398329</td>\n",
       "      <td>12.661786</td>\n",
       "      <td>31.462008</td>\n",
       "    </tr>\n",
       "  </tbody>\n",
       "</table>\n",
       "</div>"
      ],
      "text/plain": [
       "               count       mean       std       min       25%        50%  \\\n",
       "activity                                                                   \n",
       "biking      450000.0  10.039184  1.927517  0.921665  9.044184  10.000935   \n",
       "downstairs  450000.0  10.405523  4.081392  0.268638  7.641863   9.671814   \n",
       "jogging     450000.0  13.050862  6.521729  0.117166  7.620760  11.966447   \n",
       "sitting     450000.0   9.756681  0.226904  4.221222  9.652546   9.801582   \n",
       "standing    450000.0   9.871296  0.283710  3.870511  9.781635   9.890596   \n",
       "upstairs    450000.0  10.373926  3.151055  0.333906  8.327612  10.048675   \n",
       "walking     450000.0  10.676270  3.528240  0.288931  8.320685  10.398329   \n",
       "\n",
       "                  75%        max  \n",
       "activity                          \n",
       "biking      10.950975  30.916655  \n",
       "downstairs  12.538612  31.968675  \n",
       "jogging     19.041573  33.044148  \n",
       "sitting      9.898556  20.934715  \n",
       "standing     9.991227  18.484682  \n",
       "upstairs    12.252458  29.597370  \n",
       "walking     12.661786  31.462008  "
      ]
     },
     "execution_count": 48,
     "metadata": {},
     "output_type": "execute_result"
    }
   ],
   "source": [
    "# raw data before feature extraction and window building\n",
    "data['accel_magnitude'].groupby(data['activity']).describe() \n"
   ]
  },
  {
   "cell_type": "code",
   "execution_count": 49,
   "id": "adc71e4b",
   "metadata": {},
   "outputs": [
    {
     "data": {
      "text/plain": [
       "Index(['time_stamp', 'Ax', 'Ay', 'Az', 'participant', 'position', 'activity',\n",
       "       'accel_magnitude'],\n",
       "      dtype='object')"
      ]
     },
     "execution_count": 49,
     "metadata": {},
     "output_type": "execute_result"
    }
   ],
   "source": [
    "combined_df.sample(5) # with the other metrics\n",
    "data.columns\n",
    "# Group Column is like a time window of 1 second,\n",
    "# we will leave it out, because we will use a sliding window of 20 seconds.\n"
   ]
  },
  {
   "cell_type": "code",
   "execution_count": 51,
   "id": "abbd1cac",
   "metadata": {},
   "outputs": [],
   "source": [
    "# Keep the essential columns\n",
    "data_needed = data[['time_stamp','participant','activity','position','accel_magnitude']].copy()"
   ]
  },
  {
   "cell_type": "code",
   "execution_count": 52,
   "id": "10a63f73",
   "metadata": {},
   "outputs": [],
   "source": [
    "# Save the cleaned and processed data to a new CSV file\n",
    "output_file_path = 'Data/preprocessed_all_data.csv'\n",
    "data_needed.to_csv(output_file_path, index=False)"
   ]
  },
  {
   "cell_type": "markdown",
   "id": "36808938",
   "metadata": {},
   "source": [
    "## Creating Time Window\n",
    "Info:\n",
    "\n",
    "- window size: 20 sec\n",
    "- sliding step : 1 sec = 50 Hz\n",
    "- overlapping windows\n",
    "- size: 1000samples = 20 seconds * 50 Hz  \n",
    "- every participant has 63000 samples\n",
    "- each window does"
   ]
  },
  {
   "cell_type": "code",
   "execution_count": 53,
   "id": "24f1665d",
   "metadata": {},
   "outputs": [
    {
     "name": "stdout",
     "output_type": "stream",
     "text": [
      "Total windows for participant 1: 6281\n"
     ]
    }
   ],
   "source": [
    "window_size = 1000   # 20 seconds * 50 Hz\n",
    "step_size = 50       # 1 second * 50 Hz\n",
    "\n",
    "participant_1_data = data[data['participant'] == 1].reset_index(drop=True)\n",
    "windows = []\n",
    "\n",
    "for start in range(0, len(participant_1_data) - window_size + 1, step_size):\n",
    "    end = start + window_size\n",
    "    window = participant_1_data.iloc[start:end]\n",
    "    windows.append(window)\n",
    "\n",
    "print(f\"Total windows for participant 1: {len(windows)}\")"
   ]
  },
  {
   "cell_type": "markdown",
   "id": "373f3071",
   "metadata": {},
   "source": [
    "# Feature Extraction\n",
    "for all positions"
   ]
  },
  {
   "cell_type": "markdown",
   "id": "5cb5c078",
   "metadata": {},
   "source": [
    "#### Creating Time Window\n",
    "Info:\n",
    "\n",
    "- window size: 20 sec\n",
    "- sliding step : 1 sec = 50 Hz\n",
    "- overlapping windows\n",
    "- size: 1000samples = 20 seconds * 50 Hz  \n",
    "- every participant has 63000 samples\n",
    "- each window does"
   ]
  },
  {
   "cell_type": "code",
   "execution_count": 54,
   "id": "68901ede",
   "metadata": {},
   "outputs": [
    {
     "data": {
      "application/vnd.microsoft.datawrangler.viewer.v0+json": {
       "columns": [
        {
         "name": "index",
         "rawType": "int64",
         "type": "integer"
        },
        {
         "name": "time_stamp",
         "rawType": "float64",
         "type": "float"
        },
        {
         "name": "participant",
         "rawType": "int64",
         "type": "integer"
        },
        {
         "name": "activity",
         "rawType": "object",
         "type": "string"
        },
        {
         "name": "position",
         "rawType": "object",
         "type": "string"
        },
        {
         "name": "accel_magnitude",
         "rawType": "float64",
         "type": "float"
        }
       ],
       "ref": "98a7d602-96ce-4bdd-9774-7062b9f4831f",
       "rows": [
        [
         "0",
         "1390000000000.0",
         "1",
         "walking",
         "Left_pocket",
         "15.043465153015775"
        ],
        [
         "1",
         "1390000000000.0",
         "1",
         "walking",
         "Left_pocket",
         "14.097450869589863"
        ],
        [
         "2",
         "1390000000000.0",
         "1",
         "walking",
         "Left_pocket",
         "14.74424206944867"
        ],
        [
         "3",
         "1390000000000.0",
         "1",
         "walking",
         "Left_pocket",
         "13.321391555299318"
        ],
        [
         "4",
         "1390000000000.0",
         "1",
         "walking",
         "Left_pocket",
         "12.13314289786451"
        ]
       ],
       "shape": {
        "columns": 5,
        "rows": 5
       }
      },
      "text/html": [
       "<div>\n",
       "<style scoped>\n",
       "    .dataframe tbody tr th:only-of-type {\n",
       "        vertical-align: middle;\n",
       "    }\n",
       "\n",
       "    .dataframe tbody tr th {\n",
       "        vertical-align: top;\n",
       "    }\n",
       "\n",
       "    .dataframe thead th {\n",
       "        text-align: right;\n",
       "    }\n",
       "</style>\n",
       "<table border=\"1\" class=\"dataframe\">\n",
       "  <thead>\n",
       "    <tr style=\"text-align: right;\">\n",
       "      <th></th>\n",
       "      <th>time_stamp</th>\n",
       "      <th>participant</th>\n",
       "      <th>activity</th>\n",
       "      <th>position</th>\n",
       "      <th>accel_magnitude</th>\n",
       "    </tr>\n",
       "  </thead>\n",
       "  <tbody>\n",
       "    <tr>\n",
       "      <th>0</th>\n",
       "      <td>1.390000e+12</td>\n",
       "      <td>1</td>\n",
       "      <td>walking</td>\n",
       "      <td>Left_pocket</td>\n",
       "      <td>15.043465</td>\n",
       "    </tr>\n",
       "    <tr>\n",
       "      <th>1</th>\n",
       "      <td>1.390000e+12</td>\n",
       "      <td>1</td>\n",
       "      <td>walking</td>\n",
       "      <td>Left_pocket</td>\n",
       "      <td>14.097451</td>\n",
       "    </tr>\n",
       "    <tr>\n",
       "      <th>2</th>\n",
       "      <td>1.390000e+12</td>\n",
       "      <td>1</td>\n",
       "      <td>walking</td>\n",
       "      <td>Left_pocket</td>\n",
       "      <td>14.744242</td>\n",
       "    </tr>\n",
       "    <tr>\n",
       "      <th>3</th>\n",
       "      <td>1.390000e+12</td>\n",
       "      <td>1</td>\n",
       "      <td>walking</td>\n",
       "      <td>Left_pocket</td>\n",
       "      <td>13.321392</td>\n",
       "    </tr>\n",
       "    <tr>\n",
       "      <th>4</th>\n",
       "      <td>1.390000e+12</td>\n",
       "      <td>1</td>\n",
       "      <td>walking</td>\n",
       "      <td>Left_pocket</td>\n",
       "      <td>12.133143</td>\n",
       "    </tr>\n",
       "  </tbody>\n",
       "</table>\n",
       "</div>"
      ],
      "text/plain": [
       "     time_stamp  participant activity     position  accel_magnitude\n",
       "0  1.390000e+12            1  walking  Left_pocket        15.043465\n",
       "1  1.390000e+12            1  walking  Left_pocket        14.097451\n",
       "2  1.390000e+12            1  walking  Left_pocket        14.744242\n",
       "3  1.390000e+12            1  walking  Left_pocket        13.321392\n",
       "4  1.390000e+12            1  walking  Left_pocket        12.133143"
      ]
     },
     "execution_count": 54,
     "metadata": {},
     "output_type": "execute_result"
    }
   ],
   "source": [
    "import numpy as np\n",
    "import pandas as pd\n",
    "\n",
    "# Load the preprocessed data\n",
    "data = pd.read_csv('Data/preprocessed_all_data.csv')\n",
    "data.head()\n"
   ]
  },
  {
   "cell_type": "markdown",
   "id": "9b619a89",
   "metadata": {},
   "source": [
    "### Overlapping windows with 1-second steps and 20-second window length\n"
   ]
  },
  {
   "cell_type": "code",
   "execution_count": 55,
   "id": "0afb5186",
   "metadata": {},
   "outputs": [
    {
     "name": "stdout",
     "output_type": "stream",
     "text": [
      "Total windows created: 62981\n"
     ]
    }
   ],
   "source": [
    "# Define window size and step size\n",
    "window_size = 1000   # 20 seconds * 50 Hz\n",
    "step_size = 50       # 1 second * 50 Hz\n",
    "\n",
    "# Initialize a list to hold the windows and their corresponding majority activities\n",
    "windows = []\n",
    "activities = []\n",
    "\n",
    "# Create sliding windows\n",
    "for start in range(0, len(data) - window_size + 1, step_size):\n",
    "    end = start + window_size\n",
    "    window = data.iloc[start:end]\n",
    "    windows.append(window)\n",
    "    majority_activity = window['activity'].mode()[0]  # Get the majority activity\n",
    "    activities.append(majority_activity)\n",
    "\n",
    "print(f'Total windows created: {len(windows)}')"
   ]
  },
  {
   "cell_type": "code",
   "execution_count": 56,
   "id": "f0426dec",
   "metadata": {},
   "outputs": [
    {
     "data": {
      "application/vnd.microsoft.datawrangler.viewer.v0+json": {
       "columns": [
        {
         "name": "index",
         "rawType": "int64",
         "type": "integer"
        },
        {
         "name": "window",
         "rawType": "object",
         "type": "unknown"
        },
        {
         "name": "majority_activity",
         "rawType": "object",
         "type": "string"
        }
       ],
       "ref": "2254a0bc-dcf3-441c-9be0-6f3cefb62b4d",
       "rows": [
        [
         "29714",
         "           time_stamp  participant activity   position  accel_magnitude\n1485700  1.390000e+12            4   biking  Upper_arm        10.759572\n1485701  1.390000e+12            4   biking  Upper_arm         9.848895\n1485702  1.390000e+12            4   biking  Upper_arm        10.130997\n1485703  1.390000e+12            4   biking  Upper_arm         9.295603\n1485704  1.390000e+12            4   biking  Upper_arm         9.290560\n...               ...          ...      ...        ...              ...\n1486695  1.390000e+12            4   biking  Upper_arm         7.085369\n1486696  1.390000e+12            4   biking  Upper_arm        10.780914\n1486697  1.390000e+12            4   biking  Upper_arm        11.019912\n1486698  1.390000e+12            4   biking  Upper_arm        10.659154\n1486699  1.390000e+12            4   biking  Upper_arm        10.040216\n\n[1000 rows x 5 columns]",
         "biking"
        ],
        [
         "57430",
         "           time_stamp  participant activity     position  accel_magnitude\n2871500  1.390000e+12            9   biking  Left_pocket        10.694311\n2871501  1.390000e+12            9   biking  Left_pocket        11.118042\n2871502  1.390000e+12            9   biking  Left_pocket        11.057161\n2871503  1.390000e+12            9   biking  Left_pocket        10.789537\n2871504  1.390000e+12            9   biking  Left_pocket        10.760537\n...               ...          ...      ...          ...              ...\n2872495  1.390000e+12            9   biking  Left_pocket        10.432560\n2872496  1.390000e+12            9   biking  Left_pocket        10.266789\n2872497  1.390000e+12            9   biking  Left_pocket         9.905778\n2872498  1.390000e+12            9   biking  Left_pocket         9.938806\n2872499  1.390000e+12            9   biking  Left_pocket        11.257508\n\n[1000 rows x 5 columns]",
         "biking"
        ],
        [
         "44047",
         "           time_stamp  participant    activity position  accel_magnitude\n2202350  1.390000e+12            6  downstairs     Belt         8.064763\n2202351  1.390000e+12            6  downstairs     Belt         8.918407\n2202352  1.390000e+12            6  downstairs     Belt         9.092078\n2202353  1.390000e+12            6  downstairs     Belt         9.557824\n2202354  1.390000e+12            6  downstairs     Belt        10.204836\n...               ...          ...         ...      ...              ...\n2203345  1.390000e+12            6  downstairs     Belt         6.412517\n2203346  1.390000e+12            6  downstairs     Belt         8.212120\n2203347  1.390000e+12            6  downstairs     Belt         8.218060\n2203348  1.390000e+12            6  downstairs     Belt         6.788019\n2203349  1.390000e+12            6  downstairs     Belt         5.146636\n\n[1000 rows x 5 columns]",
         "downstairs"
        ],
        [
         "18273",
         "          time_stamp  participant activity position  accel_magnitude\n913650  1.390000e+12            2  sitting     Belt         9.717362\n913651  1.390000e+12            2  sitting     Belt         9.733675\n913652  1.390000e+12            2  sitting     Belt         9.694137\n913653  1.390000e+12            2  sitting     Belt         9.713194\n913654  1.390000e+12            2  sitting     Belt         9.717917\n...              ...          ...      ...      ...              ...\n914645  1.390000e+12            2  sitting     Belt         9.720095\n914646  1.390000e+12            2  sitting     Belt         9.718275\n914647  1.390000e+12            2  sitting     Belt         9.699828\n914648  1.390000e+12            2  sitting     Belt         9.729629\n914649  1.390000e+12            2  sitting     Belt         9.798158\n\n[1000 rows x 5 columns]",
         "sitting"
        ],
        [
         "17999",
         "          time_stamp  participant  activity position  accel_magnitude\n899950  1.390000e+12            2  standing     Belt         9.954369\n899951  1.390000e+12            2  standing     Belt         9.966788\n899952  1.390000e+12            2  standing     Belt         9.905458\n899953  1.390000e+12            2  standing     Belt         9.986105\n899954  1.390000e+12            2  standing     Belt         9.949256\n...              ...          ...       ...      ...              ...\n900945  1.390000e+12            2   jogging     Belt        21.867761\n900946  1.390000e+12            2   jogging     Belt        12.974885\n900947  1.390000e+12            2   jogging     Belt        13.674965\n900948  1.390000e+12            2   jogging     Belt        16.587804\n900949  1.390000e+12            2   jogging     Belt        13.317015\n\n[1000 rows x 5 columns]",
         "jogging"
        ]
       ],
       "shape": {
        "columns": 2,
        "rows": 5
       }
      },
      "text/html": [
       "<div>\n",
       "<style scoped>\n",
       "    .dataframe tbody tr th:only-of-type {\n",
       "        vertical-align: middle;\n",
       "    }\n",
       "\n",
       "    .dataframe tbody tr th {\n",
       "        vertical-align: top;\n",
       "    }\n",
       "\n",
       "    .dataframe thead th {\n",
       "        text-align: right;\n",
       "    }\n",
       "</style>\n",
       "<table border=\"1\" class=\"dataframe\">\n",
       "  <thead>\n",
       "    <tr style=\"text-align: right;\">\n",
       "      <th></th>\n",
       "      <th>window</th>\n",
       "      <th>majority_activity</th>\n",
       "    </tr>\n",
       "  </thead>\n",
       "  <tbody>\n",
       "    <tr>\n",
       "      <th>29714</th>\n",
       "      <td>time_stamp  participant activity   ...</td>\n",
       "      <td>biking</td>\n",
       "    </tr>\n",
       "    <tr>\n",
       "      <th>57430</th>\n",
       "      <td>time_stamp  participant activity   ...</td>\n",
       "      <td>biking</td>\n",
       "    </tr>\n",
       "    <tr>\n",
       "      <th>44047</th>\n",
       "      <td>time_stamp  participant    activity...</td>\n",
       "      <td>downstairs</td>\n",
       "    </tr>\n",
       "    <tr>\n",
       "      <th>18273</th>\n",
       "      <td>time_stamp  participant activity pos...</td>\n",
       "      <td>sitting</td>\n",
       "    </tr>\n",
       "    <tr>\n",
       "      <th>17999</th>\n",
       "      <td>time_stamp  participant  activity po...</td>\n",
       "      <td>jogging</td>\n",
       "    </tr>\n",
       "  </tbody>\n",
       "</table>\n",
       "</div>"
      ],
      "text/plain": [
       "                                                  window majority_activity\n",
       "29714             time_stamp  participant activity   ...            biking\n",
       "57430             time_stamp  participant activity   ...            biking\n",
       "44047             time_stamp  participant    activity...        downstairs\n",
       "18273            time_stamp  participant activity pos...           sitting\n",
       "17999            time_stamp  participant  activity po...           jogging"
      ]
     },
     "execution_count": 56,
     "metadata": {},
     "output_type": "execute_result"
    }
   ],
   "source": [
    "# Convert the list of windows and activities into a DataFrame\n",
    "windowed_data = pd.DataFrame({'window': windows, 'majority_activity': activities})\n",
    "\n",
    "# Display the first few entries of the windowed data\n",
    "windowed_data.sample(5)"
   ]
  },
  {
   "cell_type": "code",
   "execution_count": null,
   "id": "0e0c95f3",
   "metadata": {},
   "outputs": [],
   "source": [
    "from scipy.stats import skew\n",
    "from scipy.signal import welch\n",
    "\n",
    "def extract_features(window, fs=50):\n",
    "    x = window['accel_magnitude'].values.astype(float)\n",
    "    features = {}\n",
    "    features['mean'] = np.mean(x)\n",
    "    features['std'] = np.std(x)\n",
    "    features['skewness'] = skew(x)\n",
    "    features['max'] = np.max(x)\n",
    "    features['min'] = np.min(x)\n",
    "    features['range'] = np.max(x) - np.min(x)\n",
    "    # Welch's method for power spectral density\n",
    "    f, Pxx = welch(x, fs=fs)\n",
    "    #https://docs.scipy.org/doc/scipy/reference/generated/scipy.signal.welch.html\n",
    "    \n",
    "    # Μπορείς να κρατήσεις όλο το φάσμα ή π.χ. το άθροισμα ή το μέγιστο\n",
    "    features['psd_sum'] = np.sum(Pxx)\n",
    "    features['psd_max'] = np.max(Pxx)\n",
    "    # Αν θέλεις όλο το φάσμα:\n",
    "    # for i, val in enumerate(Pxx):\n",
    "    #     features[f'psd_{i}'] = val\n",
    "    return features\n",
    "\n",
    "# Εξαγωγή χαρακτηριστικών για όλα τα παράθυρα\n",
    "feature_list = []\n",
    "for window in windows:\n",
    "    feats = extract_features(window)\n",
    "    feature_list.append(feats)\n",
    "\n",
    "features_df = pd.DataFrame(feature_list)\n",
    "features_df['majority_activity'] = activities\n",
    "features_df.sample(5)"
   ]
  },
  {
   "cell_type": "code",
   "execution_count": 57,
   "id": "af8f4c7f",
   "metadata": {},
   "outputs": [
    {
     "name": "stdout",
     "output_type": "stream",
     "text": [
      "Left_pocket features:\n",
      "            mean       std  skewness        max       min      range  \\\n",
      "10652   9.406585  0.040418  0.522838   9.747146  9.240369   0.506776   \n",
      "12083   9.443964  1.776840 -0.268983  13.428428  4.838649   8.589780   \n",
      "4658    9.775560  2.101110 -0.137239  15.703103  5.840490   9.862613   \n",
      "6281   10.912932  4.611188  0.493709  24.141224  1.197590  22.943634   \n",
      "1965    9.567837  1.859718  0.811304  18.975668  1.983327  16.992341   \n",
      "\n",
      "          psd_sum    psd_max majority_activity  participant     position  \n",
      "10652    0.009115   0.000165           sitting            8  Left_pocket  \n",
      "12083   16.047054   6.987949            biking            9  Left_pocket  \n",
      "4658    23.740503   9.668355            biking            3  Left_pocket  \n",
      "6281   107.199175  16.941893        downstairs            4  Left_pocket  \n",
      "1965     7.473225   1.108382           sitting           10  Left_pocket  \n",
      "Right_pocket features:\n",
      "            mean       std  skewness        max       min      range  \\\n",
      "7054   10.259373  3.134657  0.400980  21.412574  2.008448  19.404126   \n",
      "10345   9.846587  0.060088  0.245707  10.148927  9.525728   0.623199   \n",
      "2439   10.546484  3.982723  0.524684  24.975209  1.593267  23.381942   \n",
      "8912   11.276480  4.226935  0.937207  27.068796  3.203218  23.865578   \n",
      "7760    9.958653  0.030693 -0.081138  10.055951  9.826868   0.229083   \n",
      "\n",
      "         psd_sum    psd_max majority_activity  participant      position  \n",
      "7054   52.905894  14.101142            biking            5  Right_pocket  \n",
      "10345   0.013344   0.000413          standing            8  Right_pocket  \n",
      "2439   75.528319  14.535167        downstairs           10  Right_pocket  \n",
      "8912   90.527352  15.344031           walking            7  Right_pocket  \n",
      "7760    0.004783   0.000095          standing            6  Right_pocket  \n"
     ]
    }
   ],
   "source": [
    "from scipy.stats import skew\n",
    "from scipy.signal import welch\n",
    "\n",
    "def extract_features(window, fs=50):\n",
    "    x = window['accel_magnitude'].values.astype(float)\n",
    "    features = {}\n",
    "    features['mean'] = np.mean(x)\n",
    "    features['std'] = np.std(x)\n",
    "    features['skewness'] = skew(x)\n",
    "    features['max'] = np.max(x)\n",
    "    features['min'] = np.min(x)\n",
    "    features['range'] = np.max(x) - np.min(x)\n",
    "    f, Pxx = welch(x, fs=fs)\n",
    "    features['psd_sum'] = np.sum(Pxx)\n",
    "    features['psd_max'] = np.max(Pxx)\n",
    "    return features\n",
    "\n",
    "# Helper to extract features for a given position\n",
    "def extract_features_for_position(windows, activities, position_name):\n",
    "    feature_list = []\n",
    "    majority_activities = []\n",
    "    participants = []\n",
    "    positions = []\n",
    "    for window, activity in zip(windows, activities):\n",
    "        if window['position'].iloc[0] == position_name:\n",
    "            feats = extract_features(window)\n",
    "            feature_list.append(feats)\n",
    "            majority_activities.append(activity)\n",
    "            participants.append(window['participant'].iloc[0])\n",
    "            positions.append(position_name)\n",
    "    features_df = pd.DataFrame(feature_list)\n",
    "    features_df['majority_activity'] = majority_activities\n",
    "    features_df['participant'] = participants\n",
    "    features_df['position'] = positions\n",
    "    return features_df\n",
    "\n",
    "# Create features_df for Left_pocket\n",
    "features_left = extract_features_for_position(windows, activities, 'Left_pocket')\n",
    "print(\"Left_pocket features:\")\n",
    "print(features_left.sample(5))\n",
    "\n",
    "# Create features_df for Right_pocket\n",
    "features_right = extract_features_for_position(windows, activities, 'Right_pocket')\n",
    "print(\"Right_pocket features:\")\n",
    "print(features_right.sample(5))"
   ]
  },
  {
   "cell_type": "code",
   "execution_count": 58,
   "id": "814de7ae",
   "metadata": {},
   "outputs": [
    {
     "name": "stdout",
     "output_type": "stream",
     "text": [
      "Features DataFrame saved to Data/features_all_df.csv\n"
     ]
    }
   ],
   "source": [
    "# Ensure 'participant' column exists in features_df before saving\n",
    "\n",
    "if 'participant' not in features_df.columns:\n",
    "    # Assign participant to each window based on the original data index\n",
    "    # Each window is a DataFrame, so get the participant from the first row of each window\n",
    "    participants = [int(window['participant'].iloc[0]) for window in windows]\n",
    "    features_df['participant'] = participants\n",
    "\n",
    "# Save the extracted features to a new CSV file\n",
    "output_features_file_path = 'Data/features_all_df.csv'\n",
    "features_df.to_csv(output_features_file_path, index=False)\n",
    "print(f'Features DataFrame saved to {output_features_file_path}')"
   ]
  },
  {
   "cell_type": "code",
   "execution_count": 59,
   "id": "22e01876",
   "metadata": {},
   "outputs": [
    {
     "name": "stdout",
     "output_type": "stream",
     "text": [
      "Left_pocket features saved to Data/features_left_pocket.csv\n",
      "Right_pocket features saved to Data/features_right_pocket.csv\n"
     ]
    }
   ],
   "source": [
    "# Save features for Left_pocket\n",
    "if 'participant' not in features_left.columns:\n",
    "    participants_left = [int(window['participant'].iloc[0]) for window, activity in zip(windows, activities) if window['position'].iloc[0] == 'Left_pocket']\n",
    "    features_left['participant'] = participants_left\n",
    "\n",
    "output_features_left = 'Data/features_left_pocket.csv'\n",
    "features_left.to_csv(output_features_left, index=False)\n",
    "print(f'Left_pocket features saved to {output_features_left}')\n",
    "\n",
    "# Save features for Right_pocket\n",
    "if 'participant' not in features_right.columns:\n",
    "    participants_right = [int(window['participant'].iloc[0]) for window, activity in zip(windows, activities) if window['position'].iloc[0] == 'Right_pocket']\n",
    "    features_right['participant'] = participants_right\n",
    "\n",
    "output_features_right = 'Data/features_right_pocket.csv'\n",
    "features_right.to_csv(output_features_right, index=False)\n",
    "print(f'Right_pocket features saved to {output_features_right}')"
   ]
  },
  {
   "cell_type": "code",
   "execution_count": null,
   "id": "17518128",
   "metadata": {},
   "outputs": [],
   "source": [
    "\n",
    "\n",
    "# Adjust the path if your features file has a different name or location\n",
    "features_path = 'Data/features_all_df.csv'  # Change if needed\n",
    "features_df = pd.read_csv(features_path)"
   ]
  },
  {
   "cell_type": "code",
   "execution_count": 60,
   "id": "97568b43",
   "metadata": {},
   "outputs": [
    {
     "name": "stdout",
     "output_type": "stream",
     "text": [
      "Participants found: [ 1 10  2  3  4  5  6  7  8  9]\n"
     ]
    }
   ],
   "source": [
    "# Ensure 'participant' and 'majority_activity' columns exist\n",
    "assert 'participant' in features_df.columns, \"Participant column missing!\"\n",
    "assert 'majority_activity' in features_df.columns, \"Activity label column missing!\"\n",
    "\n",
    "participants = features_df['participant'].unique()\n",
    "print(f\"Participants found: {participants}\")"
   ]
  },
  {
   "cell_type": "code",
   "execution_count": 61,
   "id": "9f4dba90",
   "metadata": {},
   "outputs": [
    {
     "name": "stdout",
     "output_type": "stream",
     "text": [
      "Participants in Left_pocket: [ 1 10  2  3  4  5  6  7  8  9]\n",
      "Participants in Right_pocket: [ 1 10  2  3  4  5  6  7  8  9]\n"
     ]
    }
   ],
   "source": [
    "# For Left_pocket features\n",
    "features_left_path = 'Data/features_left_pocket.csv'\n",
    "features_left = pd.read_csv(features_left_path)\n",
    "assert 'participant' in features_left.columns, \"Participant column missing in left pocket features!\"\n",
    "assert 'majority_activity' in features_left.columns, \"Activity label column missing in left pocket features!\"\n",
    "participants_left = features_left['participant'].unique()\n",
    "print(f\"Participants in Left_pocket: {participants_left}\")\n",
    "\n",
    "# For Right_pocket features\n",
    "features_right_path = 'Data/features_right_pocket.csv'\n",
    "features_right = pd.read_csv(features_right_path)\n",
    "assert 'participant' in features_right.columns, \"Participant column missing in right pocket features!\"\n",
    "assert 'majority_activity' in features_right.columns, \"Activity label column missing in right pocket features!\"\n",
    "participants_right = features_right['participant'].unique()\n",
    "print(f\"Participants in Right_pocket: {participants_right}\")"
   ]
  },
  {
   "cell_type": "markdown",
   "id": "a826c9df",
   "metadata": {},
   "source": [
    "### all data with the best MODEL MRWHIIIITE\n"
   ]
  },
  {
   "cell_type": "markdown",
   "id": "ab8e4b8b",
   "metadata": {},
   "source": [
    "##### last tasks \n",
    "\n",
    "- last grid searches for the best model\n",
    "- change the test set according to the question 5 and use the best model\n",
    "- combination of labels for better confusion matrix\n",
    "-  report\n",
    "- presentation\n",
    "\n",
    "\n",
    "\n",
    "\n",
    "(the simplest svm model Mean LOSO SVM Accuracy: 0.658 for all data took 30minutes...... so decide the best of all and just one try)"
   ]
  },
  {
   "cell_type": "code",
   "execution_count": 26,
   "id": "b4890600",
   "metadata": {},
   "outputs": [
    {
     "name": "stdout",
     "output_type": "stream",
     "text": [
      "Participant 1 - Accuracy: 0.741\n",
      "Participant 10 - Accuracy: 0.635\n",
      "Participant 2 - Accuracy: 0.784\n",
      "Participant 3 - Accuracy: 0.676\n",
      "Participant 4 - Accuracy: 0.760\n",
      "Participant 5 - Accuracy: 0.695\n",
      "Participant 6 - Accuracy: 0.766\n",
      "Participant 7 - Accuracy: 0.833\n",
      "Participant 8 - Accuracy: 0.709\n",
      "Participant 9 - Accuracy: 0.737\n",
      "\n",
      "Mean LOSO Accuracy: 0.734\n"
     ]
    }
   ],
   "source": [
    "## question 5\n",
    "# --- Training the best model: LOSO Cross-Validation Loop with Fixed Random Forest Parameters ---\n",
    "# Having as training set the data of each participant on position 'Left_pocket'\n",
    "# and using the position 'Right_pocket' for testing\n",
    "\n",
    "from sklearn.ensemble import RandomForestClassifier\n",
    "from sklearn.metrics import classification_report, accuracy_score\n",
    "import numpy as np\n",
    "\n",
    "# Fixed parameters as specified\n",
    "rf_params = {\n",
    "    'n_estimators': 150,\n",
    "    'max_depth': 10,\n",
    "    'min_samples_split': 5,\n",
    "    'max_features': 'sqrt',\n",
    "    'criterion': 'entropy',\n",
    "    'random_state': 28\n",
    "}\n",
    "\n",
    "results = []\n",
    "feature_importances = []\n",
    "all_y_true = []\n",
    "all_y_pred = []\n",
    "\n",
    "for pid in participants:\n",
    "    train_df = features_df[features_df['participant'] != pid]\n",
    "    test_df = features_df[features_df['participant'] == pid]\n",
    "    \n",
    "    X_train = train_df.drop(['majority_activity', 'participant'], axis=1)\n",
    "    y_train = train_df['majority_activity']\n",
    "    X_test = test_df.drop(['majority_activity', 'participant'], axis=1)\n",
    "    y_test = test_df['majority_activity']\n",
    "    \n",
    "    clf = RandomForestClassifier(**rf_params)\n",
    "    clf.fit(X_train, y_train)\n",
    "    y_pred = clf.predict(X_test)\n",
    "    \n",
    "    # Collect for confusion matrix\n",
    "    all_y_true.extend(y_test)\n",
    "    all_y_pred.extend(y_pred)\n",
    "    \n",
    "    acc = accuracy_score(y_test, y_pred)\n",
    "    report = classification_report(y_test, y_pred, output_dict=True, zero_division=0)\n",
    "    results.append({'participant': pid, 'accuracy': acc, 'report': report})\n",
    "    feature_importances.append(clf.feature_importances_)\n",
    "    \n",
    "    print(f\"Participant {pid} - Accuracy: {acc:.3f}\")\n",
    "\n",
    "mean_acc = np.mean([r['accuracy'] for r in results])\n",
    "print(f\"\\nMean LOSO Accuracy: {mean_acc:.3f}\")"
   ]
  },
  {
   "cell_type": "markdown",
   "id": "08f1bbfd",
   "metadata": {},
   "source": [
    "## the best selected model -> random forest\n"
   ]
  },
  {
   "cell_type": "code",
   "execution_count": null,
   "id": "6bdbb192",
   "metadata": {},
   "outputs": [],
   "source": [
    "features_df"
   ]
  },
  {
   "cell_type": "code",
   "execution_count": 62,
   "id": "1c90917b",
   "metadata": {},
   "outputs": [
    {
     "name": "stdout",
     "output_type": "stream",
     "text": [
      "Participant 1 - Accuracy: 0.825\n",
      "Participant 10 - Accuracy: 0.643\n",
      "Participant 2 - Accuracy: 0.926\n",
      "Participant 3 - Accuracy: 0.884\n",
      "Participant 4 - Accuracy: 0.617\n",
      "Participant 5 - Accuracy: 0.715\n",
      "Participant 6 - Accuracy: 0.955\n",
      "Participant 7 - Accuracy: 0.623\n",
      "Participant 8 - Accuracy: 0.869\n",
      "Participant 9 - Accuracy: 0.763\n",
      "\n",
      "Mean LOSO Accuracy: 0.782\n"
     ]
    }
   ],
   "source": [
    "from sklearn.ensemble import RandomForestClassifier\n",
    "from sklearn.metrics import classification_report, accuracy_score\n",
    "import numpy as np\n",
    "\n",
    "# Load features for left and right pockets\n",
    "features_left = pd.read_csv('Data/features_left_pocket.csv')\n",
    "features_right = pd.read_csv('Data/features_right_pocket.csv')\n",
    "\n",
    "participants = features_left['participant'].unique()\n",
    "\n",
    "rf_params = {\n",
    "    'n_estimators': 100,\n",
    "    'max_depth': 10,\n",
    "    'min_samples_split': 5,\n",
    "    'max_features': 'sqrt',\n",
    "    'criterion': 'entropy',\n",
    "    'random_state': 28\n",
    "}\n",
    "\n",
    "results = []\n",
    "feature_importances = []\n",
    "all_y_true = []\n",
    "all_y_pred = []\n",
    "\n",
    "for pid in participants:\n",
    "    train_df = features_left[features_left['participant'] == pid]\n",
    "    test_df = features_right[features_right['participant'] == pid]\n",
    "    \n",
    "    if train_df.empty or test_df.empty:\n",
    "        print(f\"Skipping participant {pid}: insufficient data for Left_pocket or Right_pocket.\")\n",
    "        continue\n",
    "    \n",
    "    X_train = train_df.drop(['majority_activity', 'participant', 'position'], axis=1)\n",
    "    y_train = train_df['majority_activity']\n",
    "    X_test = test_df.drop(['majority_activity', 'participant', 'position'], axis=1)\n",
    "    y_test = test_df['majority_activity']\n",
    "    \n",
    "    clf = RandomForestClassifier(**rf_params)\n",
    "    clf.fit(X_train, y_train)\n",
    "    y_pred = clf.predict(X_test)\n",
    "    \n",
    "    all_y_true.extend(y_test)\n",
    "    all_y_pred.extend(y_pred)\n",
    "    \n",
    "    acc = accuracy_score(y_test, y_pred)\n",
    "    report = classification_report(y_test, y_pred, output_dict=True, zero_division=0)\n",
    "    results.append({'participant': pid, 'accuracy': acc, 'report': report})\n",
    "    feature_importances.append(clf.feature_importances_)\n",
    "    \n",
    "    print(f\"Participant {pid} - Accuracy: {acc:.3f}\")\n",
    "\n",
    "mean_acc = np.mean([r['accuracy'] for r in results])\n",
    "print(f\"\\nMean LOSO Accuracy: {mean_acc:.3f}\")"
   ]
  },
  {
   "cell_type": "code",
   "execution_count": 63,
   "id": "9e840aa2",
   "metadata": {},
   "outputs": [
    {
     "data": {
      "image/png": "[encoded data removed]",
      "text/plain": [
       "<Figure size 640x480 with 2 Axes>"
      ]
     },
     "metadata": {},
     "output_type": "display_data"
    }
   ],
   "source": [
    "# Plot confusion matrix\n",
    "from sklearn.metrics import confusion_matrix, ConfusionMatrixDisplay\n",
    "import matplotlib.pyplot as plt\n",
    "class_names = sorted(features_df['majority_activity'].unique())  \n",
    "cm = confusion_matrix(all_y_true, all_y_pred, labels=class_names)\n",
    "disp = ConfusionMatrixDisplay(confusion_matrix=cm, display_labels=class_names)\n",
    "disp.plot(cmap=plt.cm.Blues)\n",
    "plt.title(\"Random Forest Confusion Matrix (LOSO)\")\n",
    "plt.xticks(rotation=45)\n",
    "plt.show()"
   ]
  }
 ],
 "metadata": {
  "kernelspec": {
   "display_name": "Python 3",
   "language": "python",
   "name": "python3"
  },
  "language_info": {
   "codemirror_mode": {
    "name": "ipython",
    "version": 3
   },
   "file_extension": ".py",
   "mimetype": "text/x-python",
   "name": "python",
   "nbconvert_exporter": "python",
   "pygments_lexer": "ipython3",
   "version": "3.12.1"
  }
 },
 "nbformat": 4,
 "nbformat_minor": 5
}
