{
 "cells": [
  {
   "cell_type": "code",
   "execution_count": 7,
   "id": "bce5bb94",
   "metadata": {},
   "outputs": [
    {
     "name": "stdout",
     "output_type": "stream",
     "text": [
      "               Ax       Ay       Az      position  participant    activity\n",
      "1773387  -0.38137  -9.1120 -2.13840     Upper_arm            5    standing\n",
      "1384746  -1.72980 -10.2700 -4.82160  Right_pocket            4  downstairs\n",
      "2496662  13.93400  -2.9011 -4.42660          Belt            7      biking\n",
      "1768103   0.96704  -7.3958 -0.65378     Upper_arm            5     walking\n",
      "1537945  19.51800  -2.7922 -4.98500          Belt            4     jogging\n",
      "\n",
      "✅ Total rows combined: 3150000\n",
      "📁 Output saved as: combined_accel_with_activity.csv\n"
     ]
    }
   ],
   "source": [
    "import pandas as pd\n",
    "import glob\n",
    "import os\n",
    "\n",
    "# Input folder\n",
    "data_folder = 'Data/'\n",
    "csv_files = glob.glob(os.path.join(data_folder, 'Participant_*.csv'))\n",
    "\n",
    "# Define body locations and acceleration axes\n",
    "body_locations = ['Left_pocket', 'Right_pocket', 'Wrist', 'Upper_arm', 'Belt']\n",
    "accel_axes = ['Ax', 'Ay', 'Az']\n",
    "\n",
    "# List to hold all cleaned DataFrames\n",
    "all_data = []\n",
    "\n",
    "for file_path in csv_files:\n",
    "    with open(file_path, 'r') as f:\n",
    "        line1 = f.readline().strip().split(',')\n",
    "        line2 = f.readline().strip().split(',')\n",
    "\n",
    "    # Combine the two header rows\n",
    "    header = []\n",
    "    current_prefix = None\n",
    "    for part1, part2 in zip(line1, line2):\n",
    "        if part1:\n",
    "            current_prefix = part1.strip()\n",
    "        if part2:\n",
    "            header.append(f\"{current_prefix}_{part2.strip()}\")\n",
    "        else:\n",
    "            header.append(\"\")\n",
    "\n",
    "    # Read actual data\n",
    "    df = pd.read_csv(file_path, skiprows=2, header=None)\n",
    "    df.columns = header\n",
    "\n",
    "    # Extract participant ID from filename\n",
    "    participant_id = int(os.path.basename(file_path).split('_')[1].split('.')[0])\n",
    "\n",
    "    # Get activity from column index 69 (only once — it's global per row)\n",
    "    if df.shape[1] > 69:\n",
    "        activity_col = df.iloc[:, 69].values\n",
    "    else:\n",
    "        activity_col = ['unknown'] * len(df)\n",
    "\n",
    "    # Process each position\n",
    "    for loc in body_locations:\n",
    "        cols = [f\"{loc}_{axis}\" for axis in accel_axes if f\"{loc}_{axis}\" in df.columns]\n",
    "\n",
    "        if not cols:\n",
    "            continue\n",
    "\n",
    "        temp_df = df[cols].copy()\n",
    "        temp_df.columns = accel_axes\n",
    "        temp_df['position'] = loc\n",
    "        temp_df['participant'] = participant_id\n",
    "        temp_df['activity'] = activity_col\n",
    "\n",
    "        all_data.append(temp_df)\n",
    "\n",
    "# Combine everything\n",
    "combined_df = pd.concat(all_data, ignore_index=True)\n",
    "\n",
    "# Save\n",
    "combined_df.to_csv('combined_accel_with_activity.csv', index=False)\n",
    "\n",
    "# Print summary\n",
    "print(combined_df.sample(5))\n",
    "print(f\"\\n✅ Total rows combined: {combined_df.shape[0]}\")\n",
    "print(f\"📁 Output saved as: combined_accel_with_activity.csv\")\n",
    "\n",
    "\n"
   ]
  },
  {
   "cell_type": "code",
   "execution_count": 8,
   "id": "7c879622",
   "metadata": {},
   "outputs": [
    {
     "data": {
      "application/vnd.microsoft.datawrangler.viewer.v0+json": {
       "columns": [
        {
         "name": "index",
         "rawType": "int64",
         "type": "integer"
        },
        {
         "name": "time_stamp",
         "rawType": "float64",
         "type": "float"
        },
        {
         "name": "Ax",
         "rawType": "float64",
         "type": "float"
        },
        {
         "name": "Ay",
         "rawType": "float64",
         "type": "float"
        },
        {
         "name": "Az",
         "rawType": "float64",
         "type": "float"
        },
        {
         "name": "position",
         "rawType": "object",
         "type": "string"
        },
        {
         "name": "participant",
         "rawType": "int64",
         "type": "integer"
        },
        {
         "name": "activity",
         "rawType": "object",
         "type": "string"
        }
       ],
       "ref": "b6c7bbb0-54e7-4ba2-a5c9-4e9b9db0606f",
       "rows": [
        [
         "0",
         "1390000000000.0",
         "-1.8115",
         "-14.873",
         "-1.3484",
         "Left_pocket",
         "1",
         "walking"
        ],
        [
         "1",
         "1390000000000.0",
         "0.24517",
         "-14.07",
         "-0.84446",
         "Left_pocket",
         "1",
         "walking"
        ],
        [
         "2",
         "1390000000000.0",
         "-0.57205",
         "-14.628",
         "-1.757",
         "Left_pocket",
         "1",
         "walking"
        ],
        [
         "3",
         "1390000000000.0",
         "-0.69464",
         "-12.939",
         "-3.0918",
         "Left_pocket",
         "1",
         "walking"
        ],
        [
         "4",
         "1390000000000.0",
         "0.8717",
         "-12.0",
         "-1.5663",
         "Left_pocket",
         "1",
         "walking"
        ]
       ],
       "shape": {
        "columns": 7,
        "rows": 5
       }
      },
      "text/html": [
       "<div>\n",
       "<style scoped>\n",
       "    .dataframe tbody tr th:only-of-type {\n",
       "        vertical-align: middle;\n",
       "    }\n",
       "\n",
       "    .dataframe tbody tr th {\n",
       "        vertical-align: top;\n",
       "    }\n",
       "\n",
       "    .dataframe thead th {\n",
       "        text-align: right;\n",
       "    }\n",
       "</style>\n",
       "<table border=\"1\" class=\"dataframe\">\n",
       "  <thead>\n",
       "    <tr style=\"text-align: right;\">\n",
       "      <th></th>\n",
       "      <th>time_stamp</th>\n",
       "      <th>Ax</th>\n",
       "      <th>Ay</th>\n",
       "      <th>Az</th>\n",
       "      <th>position</th>\n",
       "      <th>participant</th>\n",
       "      <th>activity</th>\n",
       "    </tr>\n",
       "  </thead>\n",
       "  <tbody>\n",
       "    <tr>\n",
       "      <th>0</th>\n",
       "      <td>1.390000e+12</td>\n",
       "      <td>-1.81150</td>\n",
       "      <td>-14.873</td>\n",
       "      <td>-1.34840</td>\n",
       "      <td>Left_pocket</td>\n",
       "      <td>1</td>\n",
       "      <td>walking</td>\n",
       "    </tr>\n",
       "    <tr>\n",
       "      <th>1</th>\n",
       "      <td>1.390000e+12</td>\n",
       "      <td>0.24517</td>\n",
       "      <td>-14.070</td>\n",
       "      <td>-0.84446</td>\n",
       "      <td>Left_pocket</td>\n",
       "      <td>1</td>\n",
       "      <td>walking</td>\n",
       "    </tr>\n",
       "    <tr>\n",
       "      <th>2</th>\n",
       "      <td>1.390000e+12</td>\n",
       "      <td>-0.57205</td>\n",
       "      <td>-14.628</td>\n",
       "      <td>-1.75700</td>\n",
       "      <td>Left_pocket</td>\n",
       "      <td>1</td>\n",
       "      <td>walking</td>\n",
       "    </tr>\n",
       "    <tr>\n",
       "      <th>3</th>\n",
       "      <td>1.390000e+12</td>\n",
       "      <td>-0.69464</td>\n",
       "      <td>-12.939</td>\n",
       "      <td>-3.09180</td>\n",
       "      <td>Left_pocket</td>\n",
       "      <td>1</td>\n",
       "      <td>walking</td>\n",
       "    </tr>\n",
       "    <tr>\n",
       "      <th>4</th>\n",
       "      <td>1.390000e+12</td>\n",
       "      <td>0.87170</td>\n",
       "      <td>-12.000</td>\n",
       "      <td>-1.56630</td>\n",
       "      <td>Left_pocket</td>\n",
       "      <td>1</td>\n",
       "      <td>walking</td>\n",
       "    </tr>\n",
       "  </tbody>\n",
       "</table>\n",
       "</div>"
      ],
      "text/plain": [
       "     time_stamp       Ax      Ay       Az     position  participant activity\n",
       "0  1.390000e+12 -1.81150 -14.873 -1.34840  Left_pocket            1  walking\n",
       "1  1.390000e+12  0.24517 -14.070 -0.84446  Left_pocket            1  walking\n",
       "2  1.390000e+12 -0.57205 -14.628 -1.75700  Left_pocket            1  walking\n",
       "3  1.390000e+12 -0.69464 -12.939 -3.09180  Left_pocket            1  walking\n",
       "4  1.390000e+12  0.87170 -12.000 -1.56630  Left_pocket            1  walking"
      ]
     },
     "execution_count": 8,
     "metadata": {},
     "output_type": "execute_result"
    }
   ],
   "source": [
    "# Reading the combined data\n",
    "# Load the preprocessed data\n",
    "combined_df = pd.read_csv('Data/combined_accel_with_activity.csv')\n",
    "combined_df.head()"
   ]
  },
  {
   "cell_type": "code",
   "execution_count": 9,
   "id": "71f6581f",
   "metadata": {},
   "outputs": [
    {
     "data": {
      "text/plain": [
       "array(['walking', 'standing', 'jogging', 'sitting', 'biking', 'upstairs',\n",
       "       'downstairs', 'upsatirs'], dtype=object)"
      ]
     },
     "execution_count": 9,
     "metadata": {},
     "output_type": "execute_result"
    }
   ],
   "source": [
    "all_df_axis = combined_df[['time_stamp','Ax','Ay','Az','participant', 'activity']].copy()\n",
    "# Convert to numpy array\n",
    "all_df_axis['activity'].unique()"
   ]
  },
  {
   "cell_type": "code",
   "execution_count": 10,
   "id": "f59625f7",
   "metadata": {},
   "outputs": [
    {
     "data": {
      "application/vnd.microsoft.datawrangler.viewer.v0+json": {
       "columns": [
        {
         "name": "index",
         "rawType": "int64",
         "type": "integer"
        },
        {
         "name": "time_stamp",
         "rawType": "float64",
         "type": "float"
        },
        {
         "name": "Ax",
         "rawType": "float64",
         "type": "float"
        },
        {
         "name": "Ay",
         "rawType": "float64",
         "type": "float"
        },
        {
         "name": "Az",
         "rawType": "float64",
         "type": "float"
        },
        {
         "name": "participant",
         "rawType": "int64",
         "type": "integer"
        },
        {
         "name": "activity",
         "rawType": "object",
         "type": "string"
        }
       ],
       "ref": "3a333182-5aad-49a0-a318-3cdc8ea5d05e",
       "rows": [
        [
         "2216968",
         "1390000000000.0",
         "1.9205",
         "-10.011",
         "1.6617",
         "7",
         "standing"
        ],
        [
         "3041316",
         "1390000000000.0",
         "2.4789",
         "-9.221",
         "-0.36775",
         "9",
         "standing"
        ],
        [
         "2721947",
         "1390000000000.0",
         "2.6015",
         "-9.1393",
         "0.50395",
         "8",
         "standing"
        ],
        [
         "2318534",
         "1390000000000.0",
         "-2.8194",
         "-9.3436",
         "-1.6481",
         "7",
         "upstairs"
        ],
        [
         "2449643",
         "1390000000000.0",
         "-0.78998",
         "-15.282",
         "-0.44947",
         "7",
         "downstairs"
        ]
       ],
       "shape": {
        "columns": 6,
        "rows": 5
       }
      },
      "text/html": [
       "<div>\n",
       "<style scoped>\n",
       "    .dataframe tbody tr th:only-of-type {\n",
       "        vertical-align: middle;\n",
       "    }\n",
       "\n",
       "    .dataframe tbody tr th {\n",
       "        vertical-align: top;\n",
       "    }\n",
       "\n",
       "    .dataframe thead th {\n",
       "        text-align: right;\n",
       "    }\n",
       "</style>\n",
       "<table border=\"1\" class=\"dataframe\">\n",
       "  <thead>\n",
       "    <tr style=\"text-align: right;\">\n",
       "      <th></th>\n",
       "      <th>time_stamp</th>\n",
       "      <th>Ax</th>\n",
       "      <th>Ay</th>\n",
       "      <th>Az</th>\n",
       "      <th>participant</th>\n",
       "      <th>activity</th>\n",
       "    </tr>\n",
       "  </thead>\n",
       "  <tbody>\n",
       "    <tr>\n",
       "      <th>2216968</th>\n",
       "      <td>1.390000e+12</td>\n",
       "      <td>1.92050</td>\n",
       "      <td>-10.0110</td>\n",
       "      <td>1.66170</td>\n",
       "      <td>7</td>\n",
       "      <td>standing</td>\n",
       "    </tr>\n",
       "    <tr>\n",
       "      <th>3041316</th>\n",
       "      <td>1.390000e+12</td>\n",
       "      <td>2.47890</td>\n",
       "      <td>-9.2210</td>\n",
       "      <td>-0.36775</td>\n",
       "      <td>9</td>\n",
       "      <td>standing</td>\n",
       "    </tr>\n",
       "    <tr>\n",
       "      <th>2721947</th>\n",
       "      <td>1.390000e+12</td>\n",
       "      <td>2.60150</td>\n",
       "      <td>-9.1393</td>\n",
       "      <td>0.50395</td>\n",
       "      <td>8</td>\n",
       "      <td>standing</td>\n",
       "    </tr>\n",
       "    <tr>\n",
       "      <th>2318534</th>\n",
       "      <td>1.390000e+12</td>\n",
       "      <td>-2.81940</td>\n",
       "      <td>-9.3436</td>\n",
       "      <td>-1.64810</td>\n",
       "      <td>7</td>\n",
       "      <td>upstairs</td>\n",
       "    </tr>\n",
       "    <tr>\n",
       "      <th>2449643</th>\n",
       "      <td>1.390000e+12</td>\n",
       "      <td>-0.78998</td>\n",
       "      <td>-15.2820</td>\n",
       "      <td>-0.44947</td>\n",
       "      <td>7</td>\n",
       "      <td>downstairs</td>\n",
       "    </tr>\n",
       "  </tbody>\n",
       "</table>\n",
       "</div>"
      ],
      "text/plain": [
       "           time_stamp       Ax       Ay       Az  participant    activity\n",
       "2216968  1.390000e+12  1.92050 -10.0110  1.66170            7    standing\n",
       "3041316  1.390000e+12  2.47890  -9.2210 -0.36775            9    standing\n",
       "2721947  1.390000e+12  2.60150  -9.1393  0.50395            8    standing\n",
       "2318534  1.390000e+12 -2.81940  -9.3436 -1.64810            7    upstairs\n",
       "2449643  1.390000e+12 -0.78998 -15.2820 -0.44947            7  downstairs"
      ]
     },
     "execution_count": 10,
     "metadata": {},
     "output_type": "execute_result"
    }
   ],
   "source": [
    "all_df_axis.loc[all_df_axis['activity'] == 'upsatirs', 'activity'] = 'upstairs'\n",
    "all_df_axis.sample(5)"
   ]
  },
  {
   "cell_type": "code",
   "execution_count": 11,
   "id": "53ccd9c7",
   "metadata": {},
   "outputs": [],
   "source": [
    "cols_to_numeric = ['Ax', 'Ay', 'Az', 'time_stamp']\n",
    "for col in cols_to_numeric:\n",
    "    all_df_axis[col] = pd.to_numeric(all_df_axis[col], errors='coerce')\n",
    "all_df_axis['participant'] = all_df_axis['participant'].astype('category')\n",
    "all_df_axis['activity'] = all_df_axis['activity'].astype('category')"
   ]
  },
  {
   "cell_type": "code",
   "execution_count": 12,
   "id": "be2ee9ae",
   "metadata": {},
   "outputs": [
    {
     "data": {
      "application/vnd.microsoft.datawrangler.viewer.v0+json": {
       "columns": [
        {
         "name": "index",
         "rawType": "object",
         "type": "string"
        },
        {
         "name": "time_stamp",
         "rawType": "float64",
         "type": "float"
        },
        {
         "name": "Ax",
         "rawType": "float64",
         "type": "float"
        },
        {
         "name": "Ay",
         "rawType": "float64",
         "type": "float"
        },
        {
         "name": "Az",
         "rawType": "float64",
         "type": "float"
        }
       ],
       "ref": "2f79039c-ce49-465d-94e9-21adeade19aa",
       "rows": [
        [
         "count",
         "3150000.0",
         "3150000.0",
         "3150000.0",
         "3150000.0"
        ],
        [
         "mean",
         "1390000000000.0",
         "2.9701748447901597",
         "-6.286799517063811",
         "-2.20718564491238"
        ],
        [
         "std",
         "0.0",
         "5.318678214672307",
         "5.467466680132307",
         "3.765335213541285"
        ],
        [
         "min",
         "1390000000000.0",
         "-19.6",
         "-19.668",
         "-19.491"
        ],
        [
         "25%",
         "1390000000000.0",
         "-0.081722",
         "-9.7522",
         "-4.413"
        ],
        [
         "50%",
         "1390000000000.0",
         "2.5061",
         "-7.1507",
         "-1.6617"
        ],
        [
         "75%",
         "1390000000000.0",
         "6.3607",
         "-1.757",
         "0.10896"
        ],
        [
         "max",
         "1390000000000.0",
         "19.6",
         "19.259",
         "19.6"
        ]
       ],
       "shape": {
        "columns": 4,
        "rows": 8
       }
      },
      "text/html": [
       "<div>\n",
       "<style scoped>\n",
       "    .dataframe tbody tr th:only-of-type {\n",
       "        vertical-align: middle;\n",
       "    }\n",
       "\n",
       "    .dataframe tbody tr th {\n",
       "        vertical-align: top;\n",
       "    }\n",
       "\n",
       "    .dataframe thead th {\n",
       "        text-align: right;\n",
       "    }\n",
       "</style>\n",
       "<table border=\"1\" class=\"dataframe\">\n",
       "  <thead>\n",
       "    <tr style=\"text-align: right;\">\n",
       "      <th></th>\n",
       "      <th>time_stamp</th>\n",
       "      <th>Ax</th>\n",
       "      <th>Ay</th>\n",
       "      <th>Az</th>\n",
       "    </tr>\n",
       "  </thead>\n",
       "  <tbody>\n",
       "    <tr>\n",
       "      <th>count</th>\n",
       "      <td>3.150000e+06</td>\n",
       "      <td>3.150000e+06</td>\n",
       "      <td>3.150000e+06</td>\n",
       "      <td>3.150000e+06</td>\n",
       "    </tr>\n",
       "    <tr>\n",
       "      <th>mean</th>\n",
       "      <td>1.390000e+12</td>\n",
       "      <td>2.970175e+00</td>\n",
       "      <td>-6.286800e+00</td>\n",
       "      <td>-2.207186e+00</td>\n",
       "    </tr>\n",
       "    <tr>\n",
       "      <th>std</th>\n",
       "      <td>0.000000e+00</td>\n",
       "      <td>5.318678e+00</td>\n",
       "      <td>5.467467e+00</td>\n",
       "      <td>3.765335e+00</td>\n",
       "    </tr>\n",
       "    <tr>\n",
       "      <th>min</th>\n",
       "      <td>1.390000e+12</td>\n",
       "      <td>-1.960000e+01</td>\n",
       "      <td>-1.966800e+01</td>\n",
       "      <td>-1.949100e+01</td>\n",
       "    </tr>\n",
       "    <tr>\n",
       "      <th>25%</th>\n",
       "      <td>1.390000e+12</td>\n",
       "      <td>-8.172200e-02</td>\n",
       "      <td>-9.752200e+00</td>\n",
       "      <td>-4.413000e+00</td>\n",
       "    </tr>\n",
       "    <tr>\n",
       "      <th>50%</th>\n",
       "      <td>1.390000e+12</td>\n",
       "      <td>2.506100e+00</td>\n",
       "      <td>-7.150700e+00</td>\n",
       "      <td>-1.661700e+00</td>\n",
       "    </tr>\n",
       "    <tr>\n",
       "      <th>75%</th>\n",
       "      <td>1.390000e+12</td>\n",
       "      <td>6.360700e+00</td>\n",
       "      <td>-1.757000e+00</td>\n",
       "      <td>1.089600e-01</td>\n",
       "    </tr>\n",
       "    <tr>\n",
       "      <th>max</th>\n",
       "      <td>1.390000e+12</td>\n",
       "      <td>1.960000e+01</td>\n",
       "      <td>1.925900e+01</td>\n",
       "      <td>1.960000e+01</td>\n",
       "    </tr>\n",
       "  </tbody>\n",
       "</table>\n",
       "</div>"
      ],
      "text/plain": [
       "         time_stamp            Ax            Ay            Az\n",
       "count  3.150000e+06  3.150000e+06  3.150000e+06  3.150000e+06\n",
       "mean   1.390000e+12  2.970175e+00 -6.286800e+00 -2.207186e+00\n",
       "std    0.000000e+00  5.318678e+00  5.467467e+00  3.765335e+00\n",
       "min    1.390000e+12 -1.960000e+01 -1.966800e+01 -1.949100e+01\n",
       "25%    1.390000e+12 -8.172200e-02 -9.752200e+00 -4.413000e+00\n",
       "50%    1.390000e+12  2.506100e+00 -7.150700e+00 -1.661700e+00\n",
       "75%    1.390000e+12  6.360700e+00 -1.757000e+00  1.089600e-01\n",
       "max    1.390000e+12  1.960000e+01  1.925900e+01  1.960000e+01"
      ]
     },
     "execution_count": 12,
     "metadata": {},
     "output_type": "execute_result"
    }
   ],
   "source": [
    "all_df_axis.describe()"
   ]
  },
  {
   "cell_type": "code",
   "execution_count": 13,
   "id": "8ad3bb71",
   "metadata": {},
   "outputs": [
    {
     "data": {
      "application/vnd.microsoft.datawrangler.viewer.v0+json": {
       "columns": [
        {
         "name": "index",
         "rawType": "int64",
         "type": "integer"
        },
        {
         "name": "time_stamp",
         "rawType": "float64",
         "type": "float"
        },
        {
         "name": "Ax",
         "rawType": "float64",
         "type": "float"
        },
        {
         "name": "Ay",
         "rawType": "float64",
         "type": "float"
        },
        {
         "name": "Az",
         "rawType": "float64",
         "type": "float"
        },
        {
         "name": "participant",
         "rawType": "category",
         "type": "unknown"
        },
        {
         "name": "activity",
         "rawType": "category",
         "type": "unknown"
        }
       ],
       "ref": "1dab5269-2629-43bc-84ba-9d89e102125d",
       "rows": [
        [
         "0",
         "1390000000000.0",
         "-1.8115",
         "-14.873",
         "-1.3484",
         "1",
         "walking"
        ],
        [
         "1",
         "1390000000000.0",
         "0.24517",
         "-14.07",
         "-0.84446",
         "1",
         "walking"
        ],
        [
         "2",
         "1390000000000.0",
         "-0.57205",
         "-14.628",
         "-1.757",
         "1",
         "walking"
        ],
        [
         "3",
         "1390000000000.0",
         "-0.69464",
         "-12.939",
         "-3.0918",
         "1",
         "walking"
        ],
        [
         "4",
         "1390000000000.0",
         "0.8717",
         "-12.0",
         "-1.5663",
         "1",
         "walking"
        ],
        [
         "5",
         "1390000000000.0",
         "0.20431",
         "-11.468",
         "4.3449",
         "1",
         "walking"
        ],
        [
         "6",
         "1390000000000.0",
         "0.50395",
         "-12.503",
         "4.3177",
         "1",
         "walking"
        ],
        [
         "7",
         "1390000000000.0",
         "2.6015",
         "-16.086",
         "3.4187",
         "1",
         "walking"
        ],
        [
         "8",
         "1390000000000.0",
         "4.9442",
         "-17.87",
         "2.0839",
         "1",
         "walking"
        ],
        [
         "9",
         "1390000000000.0",
         "4.699",
         "-15.963",
         "2.2201",
         "1",
         "walking"
        ],
        [
         "10",
         "1390000000000.0",
         "4.5083",
         "-14.492",
         "2.0294",
         "1",
         "walking"
        ],
        [
         "11",
         "1390000000000.0",
         "4.4947",
         "-11.101",
         "0.040861",
         "1",
         "walking"
        ],
        [
         "12",
         "1390000000000.0",
         "4.2768",
         "-10.529",
         "1.5391",
         "1",
         "walking"
        ],
        [
         "13",
         "1390000000000.0",
         "1.866",
         "-8.8805",
         "6.7557",
         "1",
         "walking"
        ],
        [
         "14",
         "1390000000000.0",
         "-1.4846",
         "-9.0167",
         "3.6503",
         "1",
         "walking"
        ],
        [
         "15",
         "1390000000000.0",
         "-1.471",
         "-4.7126",
         "2.2882",
         "1",
         "walking"
        ],
        [
         "16",
         "1390000000000.0",
         "-1.7706",
         "-2.9011",
         "3.5004",
         "1",
         "walking"
        ],
        [
         "17",
         "1390000000000.0",
         "0.24517",
         "-3.1327",
         "4.4402",
         "1",
         "walking"
        ],
        [
         "18",
         "1390000000000.0",
         "0.34051",
         "-3.1599",
         "3.9363",
         "1",
         "walking"
        ],
        [
         "19",
         "1390000000000.0",
         "-0.068102",
         "-2.9011",
         "3.0918",
         "1",
         "walking"
        ],
        [
         "20",
         "1390000000000.0",
         "0.83084",
         "-0.69464",
         "1.7025",
         "1",
         "walking"
        ],
        [
         "21",
         "1390000000000.0",
         "1.1169",
         "-0.68102",
         "0.57205",
         "1",
         "walking"
        ],
        [
         "22",
         "1390000000000.0",
         "2.3427",
         "-1.9068",
         "-1.2667",
         "1",
         "walking"
        ],
        [
         "23",
         "1390000000000.0",
         "10.161",
         "-13.116",
         "-12.0",
         "1",
         "walking"
        ],
        [
         "24",
         "1390000000000.0",
         "13.988",
         "-19.15",
         "-17.053",
         "1",
         "walking"
        ],
        [
         "25",
         "1390000000000.0",
         "8.9894",
         "-19.545",
         "-12.803",
         "1",
         "walking"
        ],
        [
         "26",
         "1390000000000.0",
         "5.4618",
         "-8.9077",
         "-6.5786",
         "1",
         "walking"
        ],
        [
         "27",
         "1390000000000.0",
         "5.5707",
         "-5.6388",
         "-5.5299",
         "1",
         "walking"
        ],
        [
         "28",
         "1390000000000.0",
         "4.6718",
         "-9.1256",
         "-3.6503",
         "1",
         "walking"
        ],
        [
         "29",
         "1390000000000.0",
         "2.8875",
         "-17.216",
         "-3.5958",
         "1",
         "walking"
        ],
        [
         "30",
         "1390000000000.0",
         "7.4776",
         "-12.544",
         "6.565",
         "1",
         "walking"
        ],
        [
         "31",
         "1390000000000.0",
         "6.5105",
         "-2.8875",
         "10.215",
         "1",
         "walking"
        ],
        [
         "32",
         "1390000000000.0",
         "0.9398",
         "-2.2882",
         "-2.2746",
         "1",
         "walking"
        ],
        [
         "33",
         "1390000000000.0",
         "1.7706",
         "-9.6704",
         "-1.3484",
         "1",
         "walking"
        ],
        [
         "34",
         "1390000000000.0",
         "2.1929",
         "-11.809",
         "7.2324",
         "1",
         "walking"
        ],
        [
         "35",
         "1390000000000.0",
         "0.89894",
         "-12.953",
         "7.7772",
         "1",
         "walking"
        ],
        [
         "36",
         "1390000000000.0",
         "-2.261",
         "-15.05",
         "7.641",
         "1",
         "walking"
        ],
        [
         "37",
         "1390000000000.0",
         "-4.0316",
         "-16.821",
         "-0.24517",
         "1",
         "walking"
        ],
        [
         "38",
         "1390000000000.0",
         "-3.1327",
         "-14.097",
         "-1.0624",
         "1",
         "walking"
        ],
        [
         "39",
         "1390000000000.0",
         "-1.8387",
         "-10.992",
         "-0.42223",
         "1",
         "walking"
        ],
        [
         "40",
         "1390000000000.0",
         "0.38137",
         "-7.3141",
         "-0.38137",
         "1",
         "walking"
        ],
        [
         "41",
         "1390000000000.0",
         "1.4574",
         "-7.641",
         "-1.2258",
         "1",
         "walking"
        ],
        [
         "42",
         "1390000000000.0",
         "2.2201",
         "-6.96",
         "-0.95342",
         "1",
         "walking"
        ],
        [
         "43",
         "1390000000000.0",
         "1.3212",
         "-7.8045",
         "-0.44947",
         "1",
         "walking"
        ],
        [
         "44",
         "1390000000000.0",
         "0.5993",
         "-8.2539",
         "-0.17706",
         "1",
         "walking"
        ],
        [
         "45",
         "1390000000000.0",
         "0.27241",
         "-8.322",
         "0.1362",
         "1",
         "walking"
        ],
        [
         "46",
         "1390000000000.0",
         "0.78998",
         "-8.6217",
         "0.28603",
         "1",
         "walking"
        ],
        [
         "47",
         "1390000000000.0",
         "1.3893",
         "-9.2891",
         "0.64016",
         "1",
         "walking"
        ],
        [
         "48",
         "1390000000000.0",
         "1.471",
         "-10.556",
         "1.2803",
         "1",
         "walking"
        ],
        [
         "49",
         "1390000000000.0",
         "1.2395",
         "-10.828",
         "1.1577",
         "1",
         "walking"
        ]
       ],
       "shape": {
        "columns": 6,
        "rows": 3150000
       }
      },
      "text/html": [
       "<div>\n",
       "<style scoped>\n",
       "    .dataframe tbody tr th:only-of-type {\n",
       "        vertical-align: middle;\n",
       "    }\n",
       "\n",
       "    .dataframe tbody tr th {\n",
       "        vertical-align: top;\n",
       "    }\n",
       "\n",
       "    .dataframe thead th {\n",
       "        text-align: right;\n",
       "    }\n",
       "</style>\n",
       "<table border=\"1\" class=\"dataframe\">\n",
       "  <thead>\n",
       "    <tr style=\"text-align: right;\">\n",
       "      <th></th>\n",
       "      <th>time_stamp</th>\n",
       "      <th>Ax</th>\n",
       "      <th>Ay</th>\n",
       "      <th>Az</th>\n",
       "      <th>participant</th>\n",
       "      <th>activity</th>\n",
       "    </tr>\n",
       "  </thead>\n",
       "  <tbody>\n",
       "    <tr>\n",
       "      <th>0</th>\n",
       "      <td>1.390000e+12</td>\n",
       "      <td>-1.81150</td>\n",
       "      <td>-14.8730</td>\n",
       "      <td>-1.34840</td>\n",
       "      <td>1</td>\n",
       "      <td>walking</td>\n",
       "    </tr>\n",
       "    <tr>\n",
       "      <th>1</th>\n",
       "      <td>1.390000e+12</td>\n",
       "      <td>0.24517</td>\n",
       "      <td>-14.0700</td>\n",
       "      <td>-0.84446</td>\n",
       "      <td>1</td>\n",
       "      <td>walking</td>\n",
       "    </tr>\n",
       "    <tr>\n",
       "      <th>2</th>\n",
       "      <td>1.390000e+12</td>\n",
       "      <td>-0.57205</td>\n",
       "      <td>-14.6280</td>\n",
       "      <td>-1.75700</td>\n",
       "      <td>1</td>\n",
       "      <td>walking</td>\n",
       "    </tr>\n",
       "    <tr>\n",
       "      <th>3</th>\n",
       "      <td>1.390000e+12</td>\n",
       "      <td>-0.69464</td>\n",
       "      <td>-12.9390</td>\n",
       "      <td>-3.09180</td>\n",
       "      <td>1</td>\n",
       "      <td>walking</td>\n",
       "    </tr>\n",
       "    <tr>\n",
       "      <th>4</th>\n",
       "      <td>1.390000e+12</td>\n",
       "      <td>0.87170</td>\n",
       "      <td>-12.0000</td>\n",
       "      <td>-1.56630</td>\n",
       "      <td>1</td>\n",
       "      <td>walking</td>\n",
       "    </tr>\n",
       "    <tr>\n",
       "      <th>...</th>\n",
       "      <td>...</td>\n",
       "      <td>...</td>\n",
       "      <td>...</td>\n",
       "      <td>...</td>\n",
       "      <td>...</td>\n",
       "      <td>...</td>\n",
       "    </tr>\n",
       "    <tr>\n",
       "      <th>3149995</th>\n",
       "      <td>1.390000e+12</td>\n",
       "      <td>9.05750</td>\n",
       "      <td>-1.9477</td>\n",
       "      <td>-1.28030</td>\n",
       "      <td>9</td>\n",
       "      <td>downstairs</td>\n",
       "    </tr>\n",
       "    <tr>\n",
       "      <th>3149996</th>\n",
       "      <td>1.390000e+12</td>\n",
       "      <td>9.16650</td>\n",
       "      <td>-2.1793</td>\n",
       "      <td>-1.29390</td>\n",
       "      <td>9</td>\n",
       "      <td>downstairs</td>\n",
       "    </tr>\n",
       "    <tr>\n",
       "      <th>3149997</th>\n",
       "      <td>1.390000e+12</td>\n",
       "      <td>10.03800</td>\n",
       "      <td>-3.2144</td>\n",
       "      <td>-1.51190</td>\n",
       "      <td>9</td>\n",
       "      <td>downstairs</td>\n",
       "    </tr>\n",
       "    <tr>\n",
       "      <th>3149998</th>\n",
       "      <td>1.390000e+12</td>\n",
       "      <td>9.62960</td>\n",
       "      <td>-4.2223</td>\n",
       "      <td>-1.70250</td>\n",
       "      <td>9</td>\n",
       "      <td>downstairs</td>\n",
       "    </tr>\n",
       "    <tr>\n",
       "      <th>3149999</th>\n",
       "      <td>1.390000e+12</td>\n",
       "      <td>8.86680</td>\n",
       "      <td>-4.3858</td>\n",
       "      <td>-2.09750</td>\n",
       "      <td>9</td>\n",
       "      <td>downstairs</td>\n",
       "    </tr>\n",
       "  </tbody>\n",
       "</table>\n",
       "<p>3150000 rows × 6 columns</p>\n",
       "</div>"
      ],
      "text/plain": [
       "           time_stamp        Ax       Ay       Az participant    activity\n",
       "0        1.390000e+12  -1.81150 -14.8730 -1.34840           1     walking\n",
       "1        1.390000e+12   0.24517 -14.0700 -0.84446           1     walking\n",
       "2        1.390000e+12  -0.57205 -14.6280 -1.75700           1     walking\n",
       "3        1.390000e+12  -0.69464 -12.9390 -3.09180           1     walking\n",
       "4        1.390000e+12   0.87170 -12.0000 -1.56630           1     walking\n",
       "...               ...       ...      ...      ...         ...         ...\n",
       "3149995  1.390000e+12   9.05750  -1.9477 -1.28030           9  downstairs\n",
       "3149996  1.390000e+12   9.16650  -2.1793 -1.29390           9  downstairs\n",
       "3149997  1.390000e+12  10.03800  -3.2144 -1.51190           9  downstairs\n",
       "3149998  1.390000e+12   9.62960  -4.2223 -1.70250           9  downstairs\n",
       "3149999  1.390000e+12   8.86680  -4.3858 -2.09750           9  downstairs\n",
       "\n",
       "[3150000 rows x 6 columns]"
      ]
     },
     "execution_count": 13,
     "metadata": {},
     "output_type": "execute_result"
    }
   ],
   "source": [
    "data = all_df_axis.copy()\n",
    "data"
   ]
  },
  {
   "cell_type": "code",
   "execution_count": 14,
   "id": "bdd09faa",
   "metadata": {},
   "outputs": [
    {
     "name": "stdout",
     "output_type": "stream",
     "text": [
      "Participant 1 has 315000 rows\n",
      "Participant 2 has 315000 rows\n",
      "Participant 3 has 315000 rows\n",
      "Participant 4 has 315000 rows\n",
      "Participant 5 has 315000 rows\n",
      "Participant 6 has 315000 rows\n",
      "Participant 7 has 315000 rows\n",
      "Participant 8 has 315000 rows\n",
      "Participant 9 has 315000 rows\n",
      "Participant 10 has 315000 rows\n"
     ]
    }
   ],
   "source": [
    "for i in range(1, len(data['participant'].unique())+1):\n",
    "    print(f'Participant {i} has {len(data[data[\"participant\"] == i])} rows')"
   ]
  },
  {
   "cell_type": "code",
   "execution_count": 15,
   "id": "0c792cda",
   "metadata": {},
   "outputs": [],
   "source": [
    "import numpy as np\n",
    "data['accel_magnitude'] = np.sqrt(data['Ax']**2 + data['Ay']**2 + data['Az']**2)"
   ]
  },
  {
   "cell_type": "code",
   "execution_count": 16,
   "id": "eadca74c",
   "metadata": {},
   "outputs": [
    {
     "name": "stdout",
     "output_type": "stream",
     "text": [
      "Series([], dtype: int64)\n"
     ]
    }
   ],
   "source": [
    "# Check for missing values\n",
    "missing_values = data.isnull().sum()\n",
    "print(missing_values[missing_values > 0])"
   ]
  },
  {
   "cell_type": "code",
   "execution_count": 17,
   "id": "a6d10451",
   "metadata": {},
   "outputs": [],
   "source": [
    "import numpy as np\n",
    "\n",
    "def replace_sensor_errors(data, threshold=1000):\n",
    "    data = np.array(data, dtype=float)\n",
    "    n = data.shape[0]\n",
    "\n",
    "    # Find indices where data > threshold\n",
    "    error_idx = np.where(data > threshold)[0] # to get the actual indices array from the tuple returned by np.where.\n",
    "\n",
    "    # Handle the first element if it's an error\n",
    "    if 0 in error_idx:\n",
    "        valid_idx = np.where(data <= threshold)[0]\n",
    "        if valid_idx.size == 0:\n",
    "            raise ValueError(\"All values in this dataset are errors\")\n",
    "        data[0] = data[valid_idx[0]]\n",
    "\n",
    "    # For the rest, replace with previous valid value\n",
    "    for i in error_idx:\n",
    "        if i == 0:\n",
    "            continue\n",
    "        data[i] = data[i-1]\n",
    "\n",
    "    return data\n",
    "\n",
    "# Apply only to the accel_magnitude column\n",
    "data['accel_magnitude'] = replace_sensor_errors(data['accel_magnitude'].values)"
   ]
  },
  {
   "cell_type": "code",
   "execution_count": 18,
   "id": "34a21f82",
   "metadata": {},
   "outputs": [
    {
     "name": "stderr",
     "output_type": "stream",
     "text": [
      "C:\\Users\\garog\\AppData\\Local\\Temp\\ipykernel_22344\\1947727602.py:2: FutureWarning: The default of observed=False is deprecated and will be changed to True in a future version of pandas. Pass observed=False to retain current behavior or observed=True to adopt the future default and silence this warning.\n",
      "  data['accel_magnitude'].groupby(data['activity']).describe()\n"
     ]
    },
    {
     "data": {
      "application/vnd.microsoft.datawrangler.viewer.v0+json": {
       "columns": [
        {
         "name": "activity",
         "rawType": "category",
         "type": "unknown"
        },
        {
         "name": "count",
         "rawType": "float64",
         "type": "float"
        },
        {
         "name": "mean",
         "rawType": "float64",
         "type": "float"
        },
        {
         "name": "std",
         "rawType": "float64",
         "type": "float"
        },
        {
         "name": "min",
         "rawType": "float64",
         "type": "float"
        },
        {
         "name": "25%",
         "rawType": "float64",
         "type": "float"
        },
        {
         "name": "50%",
         "rawType": "float64",
         "type": "float"
        },
        {
         "name": "75%",
         "rawType": "float64",
         "type": "float"
        },
        {
         "name": "max",
         "rawType": "float64",
         "type": "float"
        }
       ],
       "ref": "e785384b-a2c5-4873-87dd-a5f0c3028e0f",
       "rows": [
        [
         "biking",
         "450000.0",
         "10.039184077864816",
         "1.9275172399028844",
         "0.9216647233245937",
         "9.044183946453876",
         "10.000934526332854",
         "10.950974842611444",
         "30.916655009881"
        ],
        [
         "downstairs",
         "450000.0",
         "10.405523176970929",
         "4.0813919968742685",
         "0.2686384284219218",
         "7.641862893975893",
         "9.671813959643426",
         "12.538611892860164",
         "31.9686750742035"
        ],
        [
         "jogging",
         "450000.0",
         "13.050861916764624",
         "6.521728965723604",
         "0.1171661113377072",
         "7.620760449804736",
         "11.9664472843684",
         "19.041572803094297",
         "33.04414774207378"
        ],
        [
         "sitting",
         "450000.0",
         "9.756681432502946",
         "0.22690399468400996",
         "4.221221759360672",
         "9.652545804087127",
         "9.80158221538741",
         "9.898555591079942",
         "20.93471527702252"
        ],
        [
         "standing",
         "450000.0",
         "9.871296333106779",
         "0.28371016994994436",
         "3.8705113150590322",
         "9.781634596171173",
         "9.890595808243807",
         "9.991226987962985",
         "18.484681688630722"
        ],
        [
         "upstairs",
         "450000.0",
         "10.37392626821415",
         "3.151055297716062",
         "0.3339057467310199",
         "8.327612205925085",
         "10.048675130145197",
         "12.252458325980939",
         "29.597369646642587"
        ],
        [
         "walking",
         "450000.0",
         "10.676269748753578",
         "3.528240216411033",
         "0.28893090194716103",
         "8.320685219233676",
         "10.398328886650667",
         "12.661785942173218",
         "31.462007946092694"
        ]
       ],
       "shape": {
        "columns": 8,
        "rows": 7
       }
      },
      "text/html": [
       "<div>\n",
       "<style scoped>\n",
       "    .dataframe tbody tr th:only-of-type {\n",
       "        vertical-align: middle;\n",
       "    }\n",
       "\n",
       "    .dataframe tbody tr th {\n",
       "        vertical-align: top;\n",
       "    }\n",
       "\n",
       "    .dataframe thead th {\n",
       "        text-align: right;\n",
       "    }\n",
       "</style>\n",
       "<table border=\"1\" class=\"dataframe\">\n",
       "  <thead>\n",
       "    <tr style=\"text-align: right;\">\n",
       "      <th></th>\n",
       "      <th>count</th>\n",
       "      <th>mean</th>\n",
       "      <th>std</th>\n",
       "      <th>min</th>\n",
       "      <th>25%</th>\n",
       "      <th>50%</th>\n",
       "      <th>75%</th>\n",
       "      <th>max</th>\n",
       "    </tr>\n",
       "    <tr>\n",
       "      <th>activity</th>\n",
       "      <th></th>\n",
       "      <th></th>\n",
       "      <th></th>\n",
       "      <th></th>\n",
       "      <th></th>\n",
       "      <th></th>\n",
       "      <th></th>\n",
       "      <th></th>\n",
       "    </tr>\n",
       "  </thead>\n",
       "  <tbody>\n",
       "    <tr>\n",
       "      <th>biking</th>\n",
       "      <td>450000.0</td>\n",
       "      <td>10.039184</td>\n",
       "      <td>1.927517</td>\n",
       "      <td>0.921665</td>\n",
       "      <td>9.044184</td>\n",
       "      <td>10.000935</td>\n",
       "      <td>10.950975</td>\n",
       "      <td>30.916655</td>\n",
       "    </tr>\n",
       "    <tr>\n",
       "      <th>downstairs</th>\n",
       "      <td>450000.0</td>\n",
       "      <td>10.405523</td>\n",
       "      <td>4.081392</td>\n",
       "      <td>0.268638</td>\n",
       "      <td>7.641863</td>\n",
       "      <td>9.671814</td>\n",
       "      <td>12.538612</td>\n",
       "      <td>31.968675</td>\n",
       "    </tr>\n",
       "    <tr>\n",
       "      <th>jogging</th>\n",
       "      <td>450000.0</td>\n",
       "      <td>13.050862</td>\n",
       "      <td>6.521729</td>\n",
       "      <td>0.117166</td>\n",
       "      <td>7.620760</td>\n",
       "      <td>11.966447</td>\n",
       "      <td>19.041573</td>\n",
       "      <td>33.044148</td>\n",
       "    </tr>\n",
       "    <tr>\n",
       "      <th>sitting</th>\n",
       "      <td>450000.0</td>\n",
       "      <td>9.756681</td>\n",
       "      <td>0.226904</td>\n",
       "      <td>4.221222</td>\n",
       "      <td>9.652546</td>\n",
       "      <td>9.801582</td>\n",
       "      <td>9.898556</td>\n",
       "      <td>20.934715</td>\n",
       "    </tr>\n",
       "    <tr>\n",
       "      <th>standing</th>\n",
       "      <td>450000.0</td>\n",
       "      <td>9.871296</td>\n",
       "      <td>0.283710</td>\n",
       "      <td>3.870511</td>\n",
       "      <td>9.781635</td>\n",
       "      <td>9.890596</td>\n",
       "      <td>9.991227</td>\n",
       "      <td>18.484682</td>\n",
       "    </tr>\n",
       "    <tr>\n",
       "      <th>upstairs</th>\n",
       "      <td>450000.0</td>\n",
       "      <td>10.373926</td>\n",
       "      <td>3.151055</td>\n",
       "      <td>0.333906</td>\n",
       "      <td>8.327612</td>\n",
       "      <td>10.048675</td>\n",
       "      <td>12.252458</td>\n",
       "      <td>29.597370</td>\n",
       "    </tr>\n",
       "    <tr>\n",
       "      <th>walking</th>\n",
       "      <td>450000.0</td>\n",
       "      <td>10.676270</td>\n",
       "      <td>3.528240</td>\n",
       "      <td>0.288931</td>\n",
       "      <td>8.320685</td>\n",
       "      <td>10.398329</td>\n",
       "      <td>12.661786</td>\n",
       "      <td>31.462008</td>\n",
       "    </tr>\n",
       "  </tbody>\n",
       "</table>\n",
       "</div>"
      ],
      "text/plain": [
       "               count       mean       std       min       25%        50%  \\\n",
       "activity                                                                   \n",
       "biking      450000.0  10.039184  1.927517  0.921665  9.044184  10.000935   \n",
       "downstairs  450000.0  10.405523  4.081392  0.268638  7.641863   9.671814   \n",
       "jogging     450000.0  13.050862  6.521729  0.117166  7.620760  11.966447   \n",
       "sitting     450000.0   9.756681  0.226904  4.221222  9.652546   9.801582   \n",
       "standing    450000.0   9.871296  0.283710  3.870511  9.781635   9.890596   \n",
       "upstairs    450000.0  10.373926  3.151055  0.333906  8.327612  10.048675   \n",
       "walking     450000.0  10.676270  3.528240  0.288931  8.320685  10.398329   \n",
       "\n",
       "                  75%        max  \n",
       "activity                          \n",
       "biking      10.950975  30.916655  \n",
       "downstairs  12.538612  31.968675  \n",
       "jogging     19.041573  33.044148  \n",
       "sitting      9.898556  20.934715  \n",
       "standing     9.991227  18.484682  \n",
       "upstairs    12.252458  29.597370  \n",
       "walking     12.661786  31.462008  "
      ]
     },
     "execution_count": 18,
     "metadata": {},
     "output_type": "execute_result"
    }
   ],
   "source": [
    "# raw data before feature extraction and window building\n",
    "data['accel_magnitude'].groupby(data['activity']).describe() \n"
   ]
  },
  {
   "cell_type": "code",
   "execution_count": 19,
   "id": "adc71e4b",
   "metadata": {},
   "outputs": [
    {
     "data": {
      "text/plain": [
       "Index(['time_stamp', 'Ax', 'Ay', 'Az', 'participant', 'activity',\n",
       "       'accel_magnitude'],\n",
       "      dtype='object')"
      ]
     },
     "execution_count": 19,
     "metadata": {},
     "output_type": "execute_result"
    }
   ],
   "source": [
    "combined_df.sample(5) # with the other metrics\n",
    "data.columns\n",
    "# Group Column is like a time window of 1 second,\n",
    "# we will leave it out, because we will use a sliding window of 20 seconds.\n"
   ]
  },
  {
   "cell_type": "code",
   "execution_count": 20,
   "id": "abbd1cac",
   "metadata": {},
   "outputs": [],
   "source": [
    "# Keep the essential columns\n",
    "data_needed = data[['time_stamp','participant','activity','accel_magnitude']].copy()"
   ]
  },
  {
   "cell_type": "code",
   "execution_count": 21,
   "id": "10a63f73",
   "metadata": {},
   "outputs": [],
   "source": [
    "# Save the cleaned and processed data to a new CSV file\n",
    "output_file_path = 'Data/preprocessed_all_data.csv'\n",
    "data_needed.to_csv(output_file_path, index=False)"
   ]
  },
  {
   "cell_type": "markdown",
   "id": "36808938",
   "metadata": {},
   "source": [
    "## Creating Time Window\n",
    "Info:\n",
    "\n",
    "- window size: 20 sec\n",
    "- sliding step : 1 sec = 50 Hz\n",
    "- overlapping windows\n",
    "- size: 1000samples = 20 seconds * 50 Hz  \n",
    "- every participant has 63000 samples\n",
    "- each window does"
   ]
  },
  {
   "cell_type": "code",
   "execution_count": 22,
   "id": "24f1665d",
   "metadata": {},
   "outputs": [
    {
     "name": "stdout",
     "output_type": "stream",
     "text": [
      "Total windows for participant 1: 6281\n"
     ]
    }
   ],
   "source": [
    "window_size = 1000   # 20 seconds * 50 Hz\n",
    "step_size = 50       # 1 second * 50 Hz\n",
    "\n",
    "participant_1_data = data[data['participant'] == 1].reset_index(drop=True)\n",
    "windows = []\n",
    "\n",
    "for start in range(0, len(participant_1_data) - window_size + 1, step_size):\n",
    "    end = start + window_size\n",
    "    window = participant_1_data.iloc[start:end]\n",
    "    windows.append(window)\n",
    "\n",
    "print(f\"Total windows for participant 1: {len(windows)}\")"
   ]
  },
  {
   "cell_type": "markdown",
   "id": "373f3071",
   "metadata": {},
   "source": [
    "# Feature Extraction\n",
    "for all positions"
   ]
  },
  {
   "cell_type": "markdown",
   "id": "5cb5c078",
   "metadata": {},
   "source": [
    "#### Creating Time Window\n",
    "Info:\n",
    "\n",
    "- window size: 20 sec\n",
    "- sliding step : 1 sec = 50 Hz\n",
    "- overlapping windows\n",
    "- size: 1000samples = 20 seconds * 50 Hz  \n",
    "- every participant has 63000 samples\n",
    "- each window does"
   ]
  },
  {
   "cell_type": "code",
   "execution_count": 1,
   "id": "68901ede",
   "metadata": {},
   "outputs": [
    {
     "data": {
      "application/vnd.microsoft.datawrangler.viewer.v0+json": {
       "columns": [
        {
         "name": "index",
         "rawType": "int64",
         "type": "integer"
        },
        {
         "name": "time_stamp",
         "rawType": "float64",
         "type": "float"
        },
        {
         "name": "participant",
         "rawType": "int64",
         "type": "integer"
        },
        {
         "name": "activity",
         "rawType": "object",
         "type": "string"
        },
        {
         "name": "accel_magnitude",
         "rawType": "float64",
         "type": "float"
        }
       ],
       "ref": "d75e7cac-ce76-48ff-b50e-dc5f8c65ba57",
       "rows": [
        [
         "0",
         "1390000000000.0",
         "1",
         "walking",
         "15.043465153015775"
        ],
        [
         "1",
         "1390000000000.0",
         "1",
         "walking",
         "14.097450869589863"
        ],
        [
         "2",
         "1390000000000.0",
         "1",
         "walking",
         "14.74424206944867"
        ],
        [
         "3",
         "1390000000000.0",
         "1",
         "walking",
         "13.321391555299318"
        ],
        [
         "4",
         "1390000000000.0",
         "1",
         "walking",
         "12.13314289786451"
        ]
       ],
       "shape": {
        "columns": 4,
        "rows": 5
       }
      },
      "text/html": [
       "<div>\n",
       "<style scoped>\n",
       "    .dataframe tbody tr th:only-of-type {\n",
       "        vertical-align: middle;\n",
       "    }\n",
       "\n",
       "    .dataframe tbody tr th {\n",
       "        vertical-align: top;\n",
       "    }\n",
       "\n",
       "    .dataframe thead th {\n",
       "        text-align: right;\n",
       "    }\n",
       "</style>\n",
       "<table border=\"1\" class=\"dataframe\">\n",
       "  <thead>\n",
       "    <tr style=\"text-align: right;\">\n",
       "      <th></th>\n",
       "      <th>time_stamp</th>\n",
       "      <th>participant</th>\n",
       "      <th>activity</th>\n",
       "      <th>accel_magnitude</th>\n",
       "    </tr>\n",
       "  </thead>\n",
       "  <tbody>\n",
       "    <tr>\n",
       "      <th>0</th>\n",
       "      <td>1.390000e+12</td>\n",
       "      <td>1</td>\n",
       "      <td>walking</td>\n",
       "      <td>15.043465</td>\n",
       "    </tr>\n",
       "    <tr>\n",
       "      <th>1</th>\n",
       "      <td>1.390000e+12</td>\n",
       "      <td>1</td>\n",
       "      <td>walking</td>\n",
       "      <td>14.097451</td>\n",
       "    </tr>\n",
       "    <tr>\n",
       "      <th>2</th>\n",
       "      <td>1.390000e+12</td>\n",
       "      <td>1</td>\n",
       "      <td>walking</td>\n",
       "      <td>14.744242</td>\n",
       "    </tr>\n",
       "    <tr>\n",
       "      <th>3</th>\n",
       "      <td>1.390000e+12</td>\n",
       "      <td>1</td>\n",
       "      <td>walking</td>\n",
       "      <td>13.321392</td>\n",
       "    </tr>\n",
       "    <tr>\n",
       "      <th>4</th>\n",
       "      <td>1.390000e+12</td>\n",
       "      <td>1</td>\n",
       "      <td>walking</td>\n",
       "      <td>12.133143</td>\n",
       "    </tr>\n",
       "  </tbody>\n",
       "</table>\n",
       "</div>"
      ],
      "text/plain": [
       "     time_stamp  participant activity  accel_magnitude\n",
       "0  1.390000e+12            1  walking        15.043465\n",
       "1  1.390000e+12            1  walking        14.097451\n",
       "2  1.390000e+12            1  walking        14.744242\n",
       "3  1.390000e+12            1  walking        13.321392\n",
       "4  1.390000e+12            1  walking        12.133143"
      ]
     },
     "execution_count": 1,
     "metadata": {},
     "output_type": "execute_result"
    }
   ],
   "source": [
    "import numpy as np\n",
    "import pandas as pd\n",
    "\n",
    "# Load the preprocessed data\n",
    "data = pd.read_csv('Data/preprocessed_all_data.csv')\n",
    "data.head()\n"
   ]
  },
  {
   "cell_type": "markdown",
   "id": "9b619a89",
   "metadata": {},
   "source": [
    "### Overlapping windows with 1-second steps and 20-second window length\n"
   ]
  },
  {
   "cell_type": "code",
   "execution_count": 2,
   "id": "0afb5186",
   "metadata": {},
   "outputs": [
    {
     "name": "stdout",
     "output_type": "stream",
     "text": [
      "Total windows created: 62981\n"
     ]
    }
   ],
   "source": [
    "# Define window size and step size\n",
    "window_size = 1000   # 20 seconds * 50 Hz\n",
    "step_size = 50       # 1 second * 50 Hz\n",
    "\n",
    "# Initialize a list to hold the windows and their corresponding majority activities\n",
    "windows = []\n",
    "activities = []\n",
    "\n",
    "# Create sliding windows\n",
    "for start in range(0, len(data) - window_size + 1, step_size):\n",
    "    end = start + window_size\n",
    "    window = data.iloc[start:end]\n",
    "    windows.append(window)\n",
    "    majority_activity = window['activity'].mode()[0]  # Get the majority activity\n",
    "    activities.append(majority_activity)\n",
    "\n",
    "print(f'Total windows created: {len(windows)}')"
   ]
  },
  {
   "cell_type": "code",
   "execution_count": 3,
   "id": "f0426dec",
   "metadata": {},
   "outputs": [
    {
     "data": {
      "application/vnd.microsoft.datawrangler.viewer.v0+json": {
       "columns": [
        {
         "name": "index",
         "rawType": "int64",
         "type": "integer"
        },
        {
         "name": "window",
         "rawType": "object",
         "type": "unknown"
        },
        {
         "name": "majority_activity",
         "rawType": "object",
         "type": "string"
        }
       ],
       "ref": "404157f8-f116-405b-8d32-22e7fa68624f",
       "rows": [
        [
         "7132",
         "          time_stamp  participant activity  accel_magnitude\n356600  1.390000e+12           10   biking         5.841810\n356601  1.390000e+12           10   biking         5.734470\n356602  1.390000e+12           10   biking         6.117462\n356603  1.390000e+12           10   biking         7.281356\n356604  1.390000e+12           10   biking         7.326668\n...              ...          ...      ...              ...\n357595  1.390000e+12           10   biking         6.000683\n357596  1.390000e+12           10   biking         7.227737\n357597  1.390000e+12           10   biking         7.425360\n357598  1.390000e+12           10   biking         8.076066\n357599  1.390000e+12           10   biking         8.101879\n\n[1000 rows x 4 columns]",
         "biking"
        ],
        [
         "49002",
         "           time_stamp  participant    activity  accel_magnitude\n2450100  1.390000e+12            7  downstairs        12.003831\n2450101  1.390000e+12            7  downstairs        13.394559\n2450102  1.390000e+12            7  downstairs        17.559118\n2450103  1.390000e+12            7  downstairs        18.325907\n2450104  1.390000e+12            7  downstairs        16.952552\n...               ...          ...         ...              ...\n2451095  1.390000e+12            7  downstairs         9.115087\n2451096  1.390000e+12            7  downstairs         9.605928\n2451097  1.390000e+12            7  downstairs        10.614934\n2451098  1.390000e+12            7  downstairs        12.739952\n2451099  1.390000e+12            7  downstairs        12.994218\n\n[1000 rows x 4 columns]",
         "downstairs"
        ],
        [
         "51008",
         "           time_stamp  participant activity  accel_magnitude\n2550400  1.390000e+12            8  sitting         9.387576\n2550401  1.390000e+12            8  sitting         9.350981\n2550402  1.390000e+12            8  sitting         9.411768\n2550403  1.390000e+12            8  sitting         9.423336\n2550404  1.390000e+12            8  sitting         9.398802\n...               ...          ...      ...              ...\n2551395  1.390000e+12            8  sitting         9.539438\n2551396  1.390000e+12            8  sitting         9.423662\n2551397  1.390000e+12            8  sitting         9.380895\n2551398  1.390000e+12            8  sitting         9.387172\n2551399  1.390000e+12            8  sitting         9.435606\n\n[1000 rows x 4 columns]",
         "sitting"
        ],
        [
         "19759",
         "          time_stamp  participant activity  accel_magnitude\n987950  1.390000e+12            3   biking         8.237610\n987951  1.390000e+12            3   biking         6.743058\n987952  1.390000e+12            3   biking         6.840517\n987953  1.390000e+12            3   biking         8.606903\n987954  1.390000e+12            3   biking         6.857089\n...              ...          ...      ...              ...\n988945  1.390000e+12            3   biking         6.817725\n988946  1.390000e+12            3   biking         6.955417\n988947  1.390000e+12            3   biking         6.706822\n988948  1.390000e+12            3   biking         6.742763\n988949  1.390000e+12            3   biking         6.483468\n\n[1000 rows x 4 columns]",
         "biking"
        ],
        [
         "35788",
         "           time_stamp  participant activity  accel_magnitude\n1789400  1.390000e+12            5  jogging         3.843098\n1789401  1.390000e+12            5  jogging         3.725525\n1789402  1.390000e+12            5  jogging         3.419432\n1789403  1.390000e+12            5  jogging         3.185895\n1789404  1.390000e+12            5  jogging         4.910950\n...               ...          ...      ...              ...\n1790395  1.390000e+12            5  jogging        12.435375\n1790396  1.390000e+12            5  jogging        11.057016\n1790397  1.390000e+12            5  jogging         7.419763\n1790398  1.390000e+12            5  jogging         4.965241\n1790399  1.390000e+12            5  jogging         4.097134\n\n[1000 rows x 4 columns]",
         "jogging"
        ]
       ],
       "shape": {
        "columns": 2,
        "rows": 5
       }
      },
      "text/html": [
       "<div>\n",
       "<style scoped>\n",
       "    .dataframe tbody tr th:only-of-type {\n",
       "        vertical-align: middle;\n",
       "    }\n",
       "\n",
       "    .dataframe tbody tr th {\n",
       "        vertical-align: top;\n",
       "    }\n",
       "\n",
       "    .dataframe thead th {\n",
       "        text-align: right;\n",
       "    }\n",
       "</style>\n",
       "<table border=\"1\" class=\"dataframe\">\n",
       "  <thead>\n",
       "    <tr style=\"text-align: right;\">\n",
       "      <th></th>\n",
       "      <th>window</th>\n",
       "      <th>majority_activity</th>\n",
       "    </tr>\n",
       "  </thead>\n",
       "  <tbody>\n",
       "    <tr>\n",
       "      <th>7132</th>\n",
       "      <td>time_stamp  participant activity  ac...</td>\n",
       "      <td>biking</td>\n",
       "    </tr>\n",
       "    <tr>\n",
       "      <th>49002</th>\n",
       "      <td>time_stamp  participant    activity...</td>\n",
       "      <td>downstairs</td>\n",
       "    </tr>\n",
       "    <tr>\n",
       "      <th>51008</th>\n",
       "      <td>time_stamp  participant activity  a...</td>\n",
       "      <td>sitting</td>\n",
       "    </tr>\n",
       "    <tr>\n",
       "      <th>19759</th>\n",
       "      <td>time_stamp  participant activity  ac...</td>\n",
       "      <td>biking</td>\n",
       "    </tr>\n",
       "    <tr>\n",
       "      <th>35788</th>\n",
       "      <td>time_stamp  participant activity  a...</td>\n",
       "      <td>jogging</td>\n",
       "    </tr>\n",
       "  </tbody>\n",
       "</table>\n",
       "</div>"
      ],
      "text/plain": [
       "                                                  window majority_activity\n",
       "7132             time_stamp  participant activity  ac...            biking\n",
       "49002             time_stamp  participant    activity...        downstairs\n",
       "51008             time_stamp  participant activity  a...           sitting\n",
       "19759            time_stamp  participant activity  ac...            biking\n",
       "35788             time_stamp  participant activity  a...           jogging"
      ]
     },
     "execution_count": 3,
     "metadata": {},
     "output_type": "execute_result"
    }
   ],
   "source": [
    "# Convert the list of windows and activities into a DataFrame\n",
    "windowed_data = pd.DataFrame({'window': windows, 'majority_activity': activities})\n",
    "\n",
    "# Display the first few entries of the windowed data\n",
    "windowed_data.sample(5)"
   ]
  },
  {
   "cell_type": "code",
   "execution_count": 4,
   "id": "0e0c95f3",
   "metadata": {},
   "outputs": [
    {
     "data": {
      "application/vnd.microsoft.datawrangler.viewer.v0+json": {
       "columns": [
        {
         "name": "index",
         "rawType": "int64",
         "type": "integer"
        },
        {
         "name": "mean",
         "rawType": "float64",
         "type": "float"
        },
        {
         "name": "std",
         "rawType": "float64",
         "type": "float"
        },
        {
         "name": "skewness",
         "rawType": "float64",
         "type": "float"
        },
        {
         "name": "max",
         "rawType": "float64",
         "type": "float"
        },
        {
         "name": "min",
         "rawType": "float64",
         "type": "float"
        },
        {
         "name": "range",
         "rawType": "float64",
         "type": "float"
        },
        {
         "name": "psd_sum",
         "rawType": "float64",
         "type": "float"
        },
        {
         "name": "psd_max",
         "rawType": "float64",
         "type": "float"
        },
        {
         "name": "majority_activity",
         "rawType": "object",
         "type": "string"
        }
       ],
       "ref": "6fc80535-aa86-4c64-bc98-edc7d1f79f8b",
       "rows": [
        [
         "2389",
         "11.109896643702843",
         "5.097847811296305",
         "0.2973146574835664",
         "28.24244417538964",
         "0.7689141342828859",
         "27.473530041106752",
         "131.96131645473815",
         "14.186211352919315",
         "downstairs"
        ],
        [
         "14392",
         "10.83127311826725",
         "3.924804695641226",
         "1.243125976731237",
         "23.200957512663138",
         "1.9255291616592047",
         "21.27542835100393",
         "80.61676519765885",
         "19.188656937098603",
         "sitting"
        ],
        [
         "41977",
         "12.991344222594162",
         "7.519448241940461",
         "0.6181912550036894",
         "31.05995410492424",
         "2.5526265943141784",
         "28.50732751061006",
         "281.0916016038652",
         "128.6410307199751",
         "jogging"
        ],
        [
         "43746",
         "10.194799021725233",
         "2.8876751866402834",
         "0.4561444204515591",
         "20.49350659599279",
         "3.104862022522096",
         "17.388644573470696",
         "41.66931155872452",
         "10.80041216437201",
         "upstairs"
        ],
        [
         "21177",
         "10.56724028524813",
         "3.486400262691816",
         "0.12258248057561896",
         "21.5172848106196",
         "2.738535968359737",
         "18.778748842259862",
         "64.55125726558619",
         "10.932152099396092",
         "upstairs"
        ]
       ],
       "shape": {
        "columns": 9,
        "rows": 5
       }
      },
      "text/html": [
       "<div>\n",
       "<style scoped>\n",
       "    .dataframe tbody tr th:only-of-type {\n",
       "        vertical-align: middle;\n",
       "    }\n",
       "\n",
       "    .dataframe tbody tr th {\n",
       "        vertical-align: top;\n",
       "    }\n",
       "\n",
       "    .dataframe thead th {\n",
       "        text-align: right;\n",
       "    }\n",
       "</style>\n",
       "<table border=\"1\" class=\"dataframe\">\n",
       "  <thead>\n",
       "    <tr style=\"text-align: right;\">\n",
       "      <th></th>\n",
       "      <th>mean</th>\n",
       "      <th>std</th>\n",
       "      <th>skewness</th>\n",
       "      <th>max</th>\n",
       "      <th>min</th>\n",
       "      <th>range</th>\n",
       "      <th>psd_sum</th>\n",
       "      <th>psd_max</th>\n",
       "      <th>majority_activity</th>\n",
       "    </tr>\n",
       "  </thead>\n",
       "  <tbody>\n",
       "    <tr>\n",
       "      <th>2389</th>\n",
       "      <td>11.109897</td>\n",
       "      <td>5.097848</td>\n",
       "      <td>0.297315</td>\n",
       "      <td>28.242444</td>\n",
       "      <td>0.768914</td>\n",
       "      <td>27.473530</td>\n",
       "      <td>131.961316</td>\n",
       "      <td>14.186211</td>\n",
       "      <td>downstairs</td>\n",
       "    </tr>\n",
       "    <tr>\n",
       "      <th>14392</th>\n",
       "      <td>10.831273</td>\n",
       "      <td>3.924805</td>\n",
       "      <td>1.243126</td>\n",
       "      <td>23.200958</td>\n",
       "      <td>1.925529</td>\n",
       "      <td>21.275428</td>\n",
       "      <td>80.616765</td>\n",
       "      <td>19.188657</td>\n",
       "      <td>sitting</td>\n",
       "    </tr>\n",
       "    <tr>\n",
       "      <th>41977</th>\n",
       "      <td>12.991344</td>\n",
       "      <td>7.519448</td>\n",
       "      <td>0.618191</td>\n",
       "      <td>31.059954</td>\n",
       "      <td>2.552627</td>\n",
       "      <td>28.507328</td>\n",
       "      <td>281.091602</td>\n",
       "      <td>128.641031</td>\n",
       "      <td>jogging</td>\n",
       "    </tr>\n",
       "    <tr>\n",
       "      <th>43746</th>\n",
       "      <td>10.194799</td>\n",
       "      <td>2.887675</td>\n",
       "      <td>0.456144</td>\n",
       "      <td>20.493507</td>\n",
       "      <td>3.104862</td>\n",
       "      <td>17.388645</td>\n",
       "      <td>41.669312</td>\n",
       "      <td>10.800412</td>\n",
       "      <td>upstairs</td>\n",
       "    </tr>\n",
       "    <tr>\n",
       "      <th>21177</th>\n",
       "      <td>10.567240</td>\n",
       "      <td>3.486400</td>\n",
       "      <td>0.122582</td>\n",
       "      <td>21.517285</td>\n",
       "      <td>2.738536</td>\n",
       "      <td>18.778749</td>\n",
       "      <td>64.551257</td>\n",
       "      <td>10.932152</td>\n",
       "      <td>upstairs</td>\n",
       "    </tr>\n",
       "  </tbody>\n",
       "</table>\n",
       "</div>"
      ],
      "text/plain": [
       "            mean       std  skewness        max       min      range  \\\n",
       "2389   11.109897  5.097848  0.297315  28.242444  0.768914  27.473530   \n",
       "14392  10.831273  3.924805  1.243126  23.200958  1.925529  21.275428   \n",
       "41977  12.991344  7.519448  0.618191  31.059954  2.552627  28.507328   \n",
       "43746  10.194799  2.887675  0.456144  20.493507  3.104862  17.388645   \n",
       "21177  10.567240  3.486400  0.122582  21.517285  2.738536  18.778749   \n",
       "\n",
       "          psd_sum     psd_max majority_activity  \n",
       "2389   131.961316   14.186211        downstairs  \n",
       "14392   80.616765   19.188657           sitting  \n",
       "41977  281.091602  128.641031           jogging  \n",
       "43746   41.669312   10.800412          upstairs  \n",
       "21177   64.551257   10.932152          upstairs  "
      ]
     },
     "execution_count": 4,
     "metadata": {},
     "output_type": "execute_result"
    }
   ],
   "source": [
    "from scipy.stats import skew\n",
    "from scipy.signal import welch\n",
    "\n",
    "def extract_features(window, fs=50):\n",
    "    x = window['accel_magnitude'].values.astype(float)\n",
    "    features = {}\n",
    "    features['mean'] = np.mean(x)\n",
    "    features['std'] = np.std(x)\n",
    "    features['skewness'] = skew(x)\n",
    "    features['max'] = np.max(x)\n",
    "    features['min'] = np.min(x)\n",
    "    features['range'] = np.max(x) - np.min(x)\n",
    "    # Welch's method for power spectral density\n",
    "    f, Pxx = welch(x, fs=fs)\n",
    "    #https://docs.scipy.org/doc/scipy/reference/generated/scipy.signal.welch.html\n",
    "    \n",
    "    # Μπορείς να κρατήσεις όλο το φάσμα ή π.χ. το άθροισμα ή το μέγιστο\n",
    "    features['psd_sum'] = np.sum(Pxx)\n",
    "    features['psd_max'] = np.max(Pxx)\n",
    "    # Αν θέλεις όλο το φάσμα:\n",
    "    # for i, val in enumerate(Pxx):\n",
    "    #     features[f'psd_{i}'] = val\n",
    "    return features\n",
    "\n",
    "# Εξαγωγή χαρακτηριστικών για όλα τα παράθυρα\n",
    "feature_list = []\n",
    "for window in windows:\n",
    "    feats = extract_features(window)\n",
    "    feature_list.append(feats)\n",
    "\n",
    "features_df = pd.DataFrame(feature_list)\n",
    "features_df['majority_activity'] = activities\n",
    "features_df.sample(5)"
   ]
  },
  {
   "cell_type": "code",
   "execution_count": 9,
   "id": "814de7ae",
   "metadata": {},
   "outputs": [
    {
     "name": "stdout",
     "output_type": "stream",
     "text": [
      "Features DataFrame saved to Data/features_all_df.csv\n"
     ]
    }
   ],
   "source": [
    "# Ensure 'participant' column exists in features_df before saving\n",
    "\n",
    "if 'participant' not in features_df.columns:\n",
    "    # Assign participant to each window based on the original data index\n",
    "    # Each window is a DataFrame, so get the participant from the first row of each window\n",
    "    participants = [int(window['participant'].iloc[0]) for window in windows]\n",
    "    features_df['participant'] = participants\n",
    "\n",
    "# Save the extracted features to a new CSV file\n",
    "output_features_file_path = 'Data/features_all_df.csv'\n",
    "features_df.to_csv(output_features_file_path, index=False)\n",
    "print(f'Features DataFrame saved to {output_features_file_path}')"
   ]
  },
  {
   "cell_type": "code",
   "execution_count": 10,
   "id": "17518128",
   "metadata": {},
   "outputs": [],
   "source": [
    "# --- Step 1: Load All Feature Data ---\n",
    "\n",
    "# Adjust the path if your features file has a different name or location\n",
    "features_path = 'Data/features_all_df.csv'  # Change if needed\n",
    "features_df = pd.read_csv(features_path)"
   ]
  },
  {
   "cell_type": "code",
   "execution_count": 11,
   "id": "97568b43",
   "metadata": {},
   "outputs": [
    {
     "name": "stdout",
     "output_type": "stream",
     "text": [
      "Participants found: [ 1 10  2  3  4  5  6  7  8  9]\n"
     ]
    }
   ],
   "source": [
    "# Ensure 'participant' and 'majority_activity' columns exist\n",
    "assert 'participant' in features_df.columns, \"Participant column missing!\"\n",
    "assert 'majority_activity' in features_df.columns, \"Activity label column missing!\"\n",
    "\n",
    "participants = features_df['participant'].unique()\n",
    "print(f\"Participants found: {participants}\")"
   ]
  },
  {
   "cell_type": "markdown",
   "id": "a826c9df",
   "metadata": {},
   "source": [
    "### all data with the best MODEL MRWHIIIITE\n"
   ]
  },
  {
   "cell_type": "markdown",
   "id": "ab8e4b8b",
   "metadata": {},
   "source": [
    "##### last tasks \n",
    "\n",
    "- last grid searches for the best model\n",
    "- change the test set according to the question 5 and use the best model\n",
    "- combination of labels for better confusion matrix\n",
    "-  report\n",
    "- presentation\n",
    "\n",
    "\n",
    "\n",
    "\n",
    "(the simplest svm model Mean LOSO SVM Accuracy: 0.658 for all data took 30minutes...... so decide the best of all and just one try)"
   ]
  },
  {
   "cell_type": "code",
   "execution_count": 12,
   "id": "b4890600",
   "metadata": {},
   "outputs": [
    {
     "name": "stdout",
     "output_type": "stream",
     "text": [
      "SVM Participant 1 - Accuracy: 0.746\n",
      "SVM Participant 10 - Accuracy: 0.575\n",
      "SVM Participant 2 - Accuracy: 0.668\n",
      "SVM Participant 3 - Accuracy: 0.585\n",
      "SVM Participant 4 - Accuracy: 0.679\n",
      "SVM Participant 5 - Accuracy: 0.640\n",
      "SVM Participant 6 - Accuracy: 0.646\n",
      "SVM Participant 7 - Accuracy: 0.693\n",
      "SVM Participant 8 - Accuracy: 0.690\n",
      "SVM Participant 9 - Accuracy: 0.654\n",
      "\n",
      "Mean LOSO SVM Accuracy: 0.658\n"
     ]
    }
   ],
   "source": [
    "from sklearn.svm import SVC\n",
    "from sklearn.metrics import classification_report, accuracy_score\n",
    "\n",
    "# --- Step 4: LOSO Cross-Validation Loop with SVM ---\n",
    "\n",
    "svm_results = []\n",
    "\n",
    "for pid in participants:\n",
    "    # Split data\n",
    "    train_df = features_df[features_df['participant'] != pid]\n",
    "    test_df = features_df[features_df['participant'] == pid]\n",
    "    \n",
    "    # Features and labels\n",
    "    X_train = train_df.drop(['majority_activity', 'participant'], axis=1)\n",
    "    y_train = train_df['majority_activity']\n",
    "    X_test = test_df.drop(['majority_activity', 'participant'], axis=1)\n",
    "    y_test = test_df['majority_activity']\n",
    "    \n",
    "    # Train SVM classifier\n",
    "    n_features = X_train.shape[1]\n",
    "    svm_clf = SVC(kernel='rbf', C=1, gamma=1/n_features, random_state=42)\n",
    "    svm_clf.fit(X_train, y_train)\n",
    "    \n",
    "    # Predict\n",
    "    y_pred = svm_clf.predict(X_test)\n",
    "    \n",
    "    # Evaluate\n",
    "    acc = accuracy_score(y_test, y_pred)\n",
    "    report = classification_report(y_test, y_pred, output_dict=True)\n",
    "    svm_results.append({'participant': pid, 'accuracy': acc, 'report': report})\n",
    "\n",
    "    print(f\"SVM Participant {pid} - Accuracy: {acc:.3f}\")\n",
    "\n",
    "# Optionally, aggregate results\n",
    "mean_svm_acc = np.mean([r['accuracy'] for r in svm_results])\n",
    "print(f\"\\nMean LOSO SVM Accuracy: {mean_svm_acc:.3f}\")"
   ]
  }
 ],
 "metadata": {
  "kernelspec": {
   "display_name": "Python 3",
   "language": "python",
   "name": "python3"
  },
  "language_info": {
   "codemirror_mode": {
    "name": "ipython",
    "version": 3
   },
   "file_extension": ".py",
   "mimetype": "text/x-python",
   "name": "python",
   "nbconvert_exporter": "python",
   "pygments_lexer": "ipython3",
   "version": "3.12.1"
  }
 },
 "nbformat": 4,
 "nbformat_minor": 5
}
